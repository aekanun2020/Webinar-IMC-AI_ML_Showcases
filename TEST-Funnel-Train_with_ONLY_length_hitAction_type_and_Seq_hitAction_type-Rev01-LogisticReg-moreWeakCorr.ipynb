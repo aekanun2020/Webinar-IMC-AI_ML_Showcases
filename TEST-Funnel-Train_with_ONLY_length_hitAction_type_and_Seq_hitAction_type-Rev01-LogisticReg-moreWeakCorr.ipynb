{
 "cells": [
  {
   "cell_type": "code",
   "execution_count": 1,
   "metadata": {},
   "outputs": [
    {
     "data": {
      "text/html": [
       "\n",
       "            <div>\n",
       "                <p><b>SparkSession - hive</b></p>\n",
       "                \n",
       "        <div>\n",
       "            <p><b>SparkContext</b></p>\n",
       "\n",
       "            <p><a href=\"http://192.168.20.1:4040\">Spark UI</a></p>\n",
       "\n",
       "            <dl>\n",
       "              <dt>Version</dt>\n",
       "                <dd><code>v2.4.0</code></dd>\n",
       "              <dt>Master</dt>\n",
       "                <dd><code>spark://192.168.20.1:7077</code></dd>\n",
       "              <dt>AppName</dt>\n",
       "                <dd><code>PySparkShell</code></dd>\n",
       "            </dl>\n",
       "        </div>\n",
       "        \n",
       "            </div>\n",
       "        "
      ],
      "text/plain": [
       "<pyspark.sql.session.SparkSession at 0x7ffd63e5d3c8>"
      ]
     },
     "execution_count": 1,
     "metadata": {},
     "output_type": "execute_result"
    }
   ],
   "source": [
    "spark"
   ]
  },
  {
   "cell_type": "markdown",
   "metadata": {},
   "source": [
    "spark.stop()"
   ]
  },
  {
   "cell_type": "markdown",
   "metadata": {},
   "source": [
    "spark = SparkSession \\\n",
    "    .builder \\\n",
    "    .appName(\"Funnel\") \\\n",
    "    .master(\"yarn\") \\\n",
    "    .config(\"spark.total.executor.cores\",\"12\")\\\n",
    "    .config(\"spark.executor.memory\",\"1G\")\\\n",
    "    .getOrCreate();"
   ]
  },
  {
   "cell_type": "code",
   "execution_count": 2,
   "metadata": {
    "collapsed": true
   },
   "outputs": [],
   "source": [
    "header_text = \"source,isTrueDirect,sourceKeyword,medium,isVideoAd,fullVisitorId,visitId,date,newVisits,hitReferer,hitType,hitAction_type,hitNumber,hitHour,hitMin,timeMicroSec,v2ProductName,productListName,isClick,isImpression,sessionQualityDim,timeOnScreen,timeOnSite,totalTransactionRevenue\""
   ]
  },
  {
   "cell_type": "code",
   "execution_count": 3,
   "metadata": {
    "collapsed": true
   },
   "outputs": [],
   "source": [
    "from pyspark.sql.types import *"
   ]
  },
  {
   "cell_type": "code",
   "execution_count": 4,
   "metadata": {
    "collapsed": true
   },
   "outputs": [],
   "source": [
    "attr_list = []"
   ]
  },
  {
   "cell_type": "code",
   "execution_count": 5,
   "metadata": {
    "collapsed": true
   },
   "outputs": [],
   "source": [
    "for each_attr in header_text.split(','):\n",
    "    attr_list.append(StructField(each_attr, StringType(), True))\n"
   ]
  },
  {
   "cell_type": "code",
   "execution_count": 6,
   "metadata": {
    "collapsed": true
   },
   "outputs": [],
   "source": [
    "custom_schema = StructType(attr_list)"
   ]
  },
  {
   "cell_type": "code",
   "execution_count": 7,
   "metadata": {},
   "outputs": [
    {
     "data": {
      "text/plain": [
       "StructType(List(StructField(source,StringType,true),StructField(isTrueDirect,StringType,true),StructField(sourceKeyword,StringType,true),StructField(medium,StringType,true),StructField(isVideoAd,StringType,true),StructField(fullVisitorId,StringType,true),StructField(visitId,StringType,true),StructField(date,StringType,true),StructField(newVisits,StringType,true),StructField(hitReferer,StringType,true),StructField(hitType,StringType,true),StructField(hitAction_type,StringType,true),StructField(hitNumber,StringType,true),StructField(hitHour,StringType,true),StructField(hitMin,StringType,true),StructField(timeMicroSec,StringType,true),StructField(v2ProductName,StringType,true),StructField(productListName,StringType,true),StructField(isClick,StringType,true),StructField(isImpression,StringType,true),StructField(sessionQualityDim,StringType,true),StructField(timeOnScreen,StringType,true),StructField(timeOnSite,StringType,true),StructField(totalTransactionRevenue,StringType,true)))"
      ]
     },
     "execution_count": 7,
     "metadata": {},
     "output_type": "execute_result"
    }
   ],
   "source": [
    "custom_schema"
   ]
  },
  {
   "cell_type": "code",
   "execution_count": 8,
   "metadata": {
    "collapsed": true
   },
   "outputs": [],
   "source": [
    "raw_df = spark.read.format('csv').schema(custom_schema).option('header','true').option('mode','DROPMALFORMED')\\\n",
    ".load('/root/funnel/*')"
   ]
  },
  {
   "cell_type": "code",
   "execution_count": 9,
   "metadata": {},
   "outputs": [
    {
     "name": "stdout",
     "output_type": "stream",
     "text": [
      "total 1659324\r\n",
      "133772 -rw-r--r-- 1 root root 136974517 Nov 27 11:30 000000000000\r\n",
      "163700 -rw-r--r-- 1 root root 167622584 Nov 27 11:30 000000000001\r\n",
      "148560 -rw-r--r-- 1 root root 152118014 Nov 27 11:30 000000000002\r\n",
      "164844 -rw-r--r-- 1 root root 168793956 Nov 27 11:30 000000000003\r\n",
      "154620 -rw-r--r-- 1 root root 158326709 Nov 27 11:30 000000000004\r\n",
      "199532 -rw-r--r-- 1 root root 204312912 Nov 27 11:30 000000000005\r\n",
      "172656 -rw-r--r-- 1 root root 176794215 Nov 27 11:30 000000000006\r\n",
      "195344 -rw-r--r-- 1 root root 200026989 Nov 27 11:30 000000000007\r\n",
      "155880 -rw-r--r-- 1 root root 159615699 Nov 27 11:31 000000000008\r\n",
      "170416 -rw-r--r-- 1 root root 174500181 Nov 27 11:31 000000000009\r\n"
     ]
    }
   ],
   "source": [
    "! ls -ls /root/funnel"
   ]
  },
  {
   "cell_type": "code",
   "execution_count": 10,
   "metadata": {},
   "outputs": [
    {
     "name": "stdout",
     "output_type": "stream",
     "text": [
      "11375061\r\n"
     ]
    }
   ],
   "source": [
    "! cat /root/funnel/* | wc -l"
   ]
  },
  {
   "cell_type": "code",
   "execution_count": 11,
   "metadata": {},
   "outputs": [
    {
     "name": "stdout",
     "output_type": "stream",
     "text": [
      "source,isTrueDirect,sourceKeyword,medium,isVideoAd,fullVisitorId,visitId,date,newVisits,hitReferer,hitType,hitAction_type,hitNumber,hitHour,hitMin,timeMicroSec,v2ProductName,productListName,isClick,isImpression,sessionQualityDim,timeOnScreen,timeOnSite,totalTransactionRevenue\r\n",
      "google,true,(not provided),organic,,4988612949713423910,1489617360,20170315,,,PAGE,0,28,15,46,608771,Google Accent Insulated Stainless Steel Bottle,Category,,true,,,1897,\r\n",
      "google,true,(not provided),organic,,4988612949713423910,1489617360,20170315,,,PAGE,0,27,15,46,605064,Google Pocket Bluetooth Speaker,Category,,true,,,1897,\r\n"
     ]
    }
   ],
   "source": [
    "! head -3 /root/funnel/000000000000"
   ]
  },
  {
   "cell_type": "code",
   "execution_count": 12,
   "metadata": {
    "collapsed": true
   },
   "outputs": [],
   "source": [
    "mem_raw_df = raw_df.repartition(60).cache()"
   ]
  },
  {
   "cell_type": "markdown",
   "metadata": {},
   "source": [
    "### Numbers of Rows"
   ]
  },
  {
   "cell_type": "markdown",
   "metadata": {},
   "source": [
    "mem_raw_df.count()"
   ]
  },
  {
   "cell_type": "markdown",
   "metadata": {},
   "source": [
    "mem_raw_df.columns"
   ]
  },
  {
   "cell_type": "code",
   "execution_count": 13,
   "metadata": {
    "collapsed": true
   },
   "outputs": [],
   "source": [
    "allCol_list = mem_raw_df.columns"
   ]
  },
  {
   "cell_type": "code",
   "execution_count": 14,
   "metadata": {
    "collapsed": true
   },
   "outputs": [],
   "source": [
    "removeCol_list = ['timeOnScreen']"
   ]
  },
  {
   "cell_type": "code",
   "execution_count": 15,
   "metadata": {
    "collapsed": true
   },
   "outputs": [],
   "source": [
    "for i in removeCol_list:\n",
    "    allCol_list.remove(i)"
   ]
  },
  {
   "cell_type": "code",
   "execution_count": 16,
   "metadata": {
    "collapsed": true
   },
   "outputs": [],
   "source": [
    "newCol_list = []"
   ]
  },
  {
   "cell_type": "code",
   "execution_count": 17,
   "metadata": {
    "collapsed": true
   },
   "outputs": [],
   "source": [
    "newCol_list = allCol_list"
   ]
  },
  {
   "cell_type": "code",
   "execution_count": 18,
   "metadata": {
    "collapsed": true
   },
   "outputs": [],
   "source": [
    "filtered_raw_df = mem_raw_df.select(newCol_list)"
   ]
  },
  {
   "cell_type": "markdown",
   "metadata": {},
   "source": [
    "# 2. Data Preparation"
   ]
  },
  {
   "cell_type": "markdown",
   "metadata": {},
   "source": [
    "## Data Cleansing"
   ]
  },
  {
   "cell_type": "code",
   "execution_count": 19,
   "metadata": {
    "collapsed": true
   },
   "outputs": [],
   "source": [
    "from pyspark.sql.functions import udf\n",
    "from pyspark.sql.types import *"
   ]
  },
  {
   "cell_type": "markdown",
   "metadata": {},
   "source": [
    "### Remove Null"
   ]
  },
  {
   "cell_type": "code",
   "execution_count": 20,
   "metadata": {
    "collapsed": true
   },
   "outputs": [],
   "source": [
    "def f_removenull(origin):\n",
    "    if origin == None:\n",
    "        return 'NULL'\n",
    "    else:\n",
    "        return origin"
   ]
  },
  {
   "cell_type": "code",
   "execution_count": 21,
   "metadata": {
    "collapsed": true
   },
   "outputs": [],
   "source": [
    "removenull = udf(lambda x: f_removenull(x),StringType())"
   ]
  },
  {
   "cell_type": "markdown",
   "metadata": {},
   "source": [
    "### Make Binary"
   ]
  },
  {
   "cell_type": "code",
   "execution_count": 22,
   "metadata": {
    "collapsed": true
   },
   "outputs": [],
   "source": [
    "def f_makebinary(origin):\n",
    "    if origin == None:\n",
    "        return 'FALSE'\n",
    "    elif origin == 'true':\n",
    "        return 'TRUE'\n",
    "    elif origin == '1':\n",
    "        return 'TRUE'\n",
    "    else:\n",
    "        return 'NULL'"
   ]
  },
  {
   "cell_type": "code",
   "execution_count": 23,
   "metadata": {
    "collapsed": true
   },
   "outputs": [],
   "source": [
    "makebinary = udf(lambda x: f_makebinary(x),StringType())"
   ]
  },
  {
   "cell_type": "markdown",
   "metadata": {},
   "source": [
    "### Clean Null with Zero"
   ]
  },
  {
   "cell_type": "code",
   "execution_count": 24,
   "metadata": {
    "collapsed": true
   },
   "outputs": [],
   "source": [
    "def f_cleanNullwithZero(item):\n",
    "    if item == None:\n",
    "        new = '0'\n",
    "        return new\n",
    "    else:\n",
    "        return item"
   ]
  },
  {
   "cell_type": "code",
   "execution_count": 25,
   "metadata": {
    "collapsed": true
   },
   "outputs": [],
   "source": [
    "cleanNullwithZero = udf(lambda x:f_cleanNullwithZero(x),StringType())"
   ]
  },
  {
   "cell_type": "markdown",
   "metadata": {},
   "source": [
    "### Make Dollar"
   ]
  },
  {
   "cell_type": "code",
   "execution_count": 26,
   "metadata": {
    "collapsed": true
   },
   "outputs": [],
   "source": [
    "def f_makedollar(revenue):\n",
    "    if revenue == None:\n",
    "        return 0\n",
    "    else:\n",
    "        return revenue/1000000"
   ]
  },
  {
   "cell_type": "code",
   "execution_count": 27,
   "metadata": {
    "collapsed": true
   },
   "outputs": [],
   "source": [
    "makedollar = udf(lambda x: f_makedollar(x),FloatType())"
   ]
  },
  {
   "cell_type": "code",
   "execution_count": null,
   "metadata": {
    "collapsed": true
   },
   "outputs": [],
   "source": []
  },
  {
   "cell_type": "code",
   "execution_count": 28,
   "metadata": {
    "collapsed": true
   },
   "outputs": [],
   "source": [
    "from pyspark.sql.functions import col"
   ]
  },
  {
   "cell_type": "code",
   "execution_count": 29,
   "metadata": {
    "collapsed": true
   },
   "outputs": [],
   "source": [
    "crunched_df = filtered_raw_df.\\\n",
    "withColumn('hitHour',col('hitHour').cast(FloatType())).\\\n",
    "withColumn('hitMin',col('hitMin').cast(FloatType())).\\\n",
    "withColumn('hitNumber',col('hitNumber').cast(FloatType())).\\\n",
    "withColumn('timeMicroSec',col('timeMicroSec').cast(FloatType())).\\\n",
    "withColumn('timeOnSite',col('timeOnSite').cast(FloatType())).\\\n",
    "withColumn('totalTransactionRevenue',cleanNullwithZero(col('totalTransactionRevenue')).cast(FloatType())).\\\n",
    "withColumn('newVisits',makebinary(col('newVisits'))).\\\n",
    "withColumn('sourceKeyword',removenull(col('sourceKeyword'))).\\\n",
    "withColumn('isVideoAd',makebinary(col('isVideoAd'))).\\\n",
    "withColumn('hitReferer',removenull(col('hitReferer'))).\\\n",
    "withColumn('isClick',makebinary(col('isClick'))).\\\n",
    "withColumn('isImpression',makebinary(col('isImpression'))).\\\n",
    "withColumn('sessionQualityDim',removenull(col('sessionQualityDim'))).\\\n",
    "withColumn('timeOnSite',removenull(col('timeOnSite'))).\\\n",
    "withColumn('totalTransactionRevenue',makedollar(col('totalTransactionRevenue'))).\\\n",
    "withColumn('isTrueDirect',makebinary(col('isTrueDirect')))"
   ]
  },
  {
   "cell_type": "markdown",
   "metadata": {},
   "source": [
    "### Data Enhancement: Summary within Partition"
   ]
  },
  {
   "cell_type": "code",
   "execution_count": 30,
   "metadata": {
    "collapsed": true
   },
   "outputs": [],
   "source": [
    "from pyspark.sql.functions import col, udf, sum\n",
    "from pyspark.sql.types import *\n",
    "from pyspark.sql import Row\n",
    "from pyspark.sql.window import Window"
   ]
  },
  {
   "cell_type": "code",
   "execution_count": 31,
   "metadata": {},
   "outputs": [
    {
     "data": {
      "text/plain": [
       "DataFrame[source: string, isTrueDirect: string, sourceKeyword: string, medium: string, isVideoAd: string, fullVisitorId: string, visitId: string, date: string, newVisits: string, hitReferer: string, hitType: string, hitAction_type: string, hitNumber: float, hitHour: float, hitMin: float, timeMicroSec: float, v2ProductName: string, productListName: string, isClick: string, isImpression: string, sessionQualityDim: string, timeOnSite: string, totalTransactionRevenue: float]"
      ]
     },
     "execution_count": 31,
     "metadata": {},
     "output_type": "execute_result"
    }
   ],
   "source": [
    "crunched_df"
   ]
  },
  {
   "cell_type": "markdown",
   "metadata": {},
   "source": [
    "crunched_df.columns"
   ]
  },
  {
   "cell_type": "code",
   "execution_count": 32,
   "metadata": {
    "collapsed": true
   },
   "outputs": [],
   "source": [
    "import sys"
   ]
  },
  {
   "cell_type": "code",
   "execution_count": 33,
   "metadata": {
    "collapsed": true
   },
   "outputs": [],
   "source": [
    "from pyspark.sql.types import *"
   ]
  },
  {
   "cell_type": "code",
   "execution_count": 34,
   "metadata": {
    "collapsed": true
   },
   "outputs": [],
   "source": [
    "from pyspark.sql.functions import *"
   ]
  },
  {
   "cell_type": "code",
   "execution_count": 35,
   "metadata": {
    "collapsed": true
   },
   "outputs": [],
   "source": [
    "w = Window()\\\n",
    "   .partitionBy('fullVisitorId','visitId')\\\n",
    "   .orderBy(col(\"hitNumber\").cast(\"long\"))"
   ]
  },
  {
   "cell_type": "code",
   "execution_count": 36,
   "metadata": {
    "collapsed": true
   },
   "outputs": [],
   "source": [
    "windowSpec = Window\\\n",
    ".partitionBy('fullVisitorId','visitId')\\\n",
    ".orderBy(col(\"hitNumber\").cast(\"long\"))\\\n",
    ".rangeBetween(-sys.maxsize, sys.maxsize)"
   ]
  },
  {
   "cell_type": "code",
   "execution_count": 37,
   "metadata": {
    "collapsed": true
   },
   "outputs": [],
   "source": [
    "from pyspark.sql import functions as func"
   ]
  },
  {
   "cell_type": "code",
   "execution_count": 38,
   "metadata": {
    "collapsed": true
   },
   "outputs": [],
   "source": [
    "Diff_hitNumber = func.max(col('hitNumber').cast(IntegerType())).over(windowSpec) - func.min(col('hitNumber').cast(IntegerType())).over(windowSpec)"
   ]
  },
  {
   "cell_type": "code",
   "execution_count": 39,
   "metadata": {
    "collapsed": true
   },
   "outputs": [],
   "source": [
    "Diff_timeMicroSec = func.max(col('timeMicroSec').cast(IntegerType())).over(windowSpec) - func.min(col('timeMicroSec').cast(IntegerType())).over(windowSpec)"
   ]
  },
  {
   "cell_type": "code",
   "execution_count": 40,
   "metadata": {
    "collapsed": true
   },
   "outputs": [],
   "source": [
    "Diff_hitHour = func.max(col('hitHour').cast(IntegerType())).over(windowSpec) - func.min(col('hitHour').cast(IntegerType())).over(windowSpec)"
   ]
  },
  {
   "cell_type": "code",
   "execution_count": 41,
   "metadata": {
    "collapsed": true
   },
   "outputs": [],
   "source": [
    "Diff_hitMin = func.max(col('hitMin').cast(IntegerType())).over(windowSpec) - func.min(col('hitMin').cast(IntegerType())).over(windowSpec)"
   ]
  },
  {
   "cell_type": "code",
   "execution_count": 42,
   "metadata": {
    "collapsed": true
   },
   "outputs": [],
   "source": [
    "first_hitNumber = func.first(col('hitNumber').cast(IntegerType())).over(windowSpec)"
   ]
  },
  {
   "cell_type": "code",
   "execution_count": 43,
   "metadata": {
    "collapsed": true
   },
   "outputs": [],
   "source": [
    "last_hitNumber = func.last(col('hitNumber').cast(IntegerType())).over(windowSpec)"
   ]
  },
  {
   "cell_type": "code",
   "execution_count": 44,
   "metadata": {
    "collapsed": true
   },
   "outputs": [],
   "source": [
    "first_Action_type = func.first(col('hitAction_type').cast(StringType())).over(windowSpec)"
   ]
  },
  {
   "cell_type": "code",
   "execution_count": 45,
   "metadata": {
    "collapsed": true
   },
   "outputs": [],
   "source": [
    "last_Action_type = func.last(col('hitAction_type').cast(StringType())).over(windowSpec)"
   ]
  },
  {
   "cell_type": "code",
   "execution_count": 46,
   "metadata": {
    "collapsed": true
   },
   "outputs": [],
   "source": [
    "from pyspark.sql.functions import to_timestamp"
   ]
  },
  {
   "cell_type": "code",
   "execution_count": 47,
   "metadata": {
    "collapsed": true
   },
   "outputs": [],
   "source": [
    "####Rev01"
   ]
  },
  {
   "cell_type": "code",
   "execution_count": 48,
   "metadata": {
    "collapsed": true
   },
   "outputs": [],
   "source": [
    "partitionCal_df = crunched_df\\\n",
    ".withColumn('first_hitNumber', first_hitNumber)\\\n",
    ".withColumn('last_hitNumber', last_hitNumber)\\\n",
    ".withColumn('Diff_hitNumber', Diff_hitNumber)\\\n",
    ".withColumn('Diff_timeMicroSec', Diff_timeMicroSec)\\\n",
    ".withColumn('Diff_hitHour', Diff_hitHour)\\\n",
    ".withColumn('Diff_hitMin', Diff_hitMin)\\\n",
    ".withColumn('first_Action_type', first_Action_type)\\\n",
    ".withColumn('last_Action_type', last_Action_type)\\\n",
    ".withColumn('last_Action_type',col('last_Action_type').cast(FloatType()))\\\n",
    ".dropna()"
   ]
  },
  {
   "cell_type": "code",
   "execution_count": 49,
   "metadata": {},
   "outputs": [
    {
     "data": {
      "text/plain": [
       "['source',\n",
       " 'isTrueDirect',\n",
       " 'sourceKeyword',\n",
       " 'medium',\n",
       " 'isVideoAd',\n",
       " 'fullVisitorId',\n",
       " 'visitId',\n",
       " 'date',\n",
       " 'newVisits',\n",
       " 'hitReferer',\n",
       " 'hitType',\n",
       " 'hitAction_type',\n",
       " 'hitNumber',\n",
       " 'hitHour',\n",
       " 'hitMin',\n",
       " 'timeMicroSec',\n",
       " 'v2ProductName',\n",
       " 'productListName',\n",
       " 'isClick',\n",
       " 'isImpression',\n",
       " 'sessionQualityDim',\n",
       " 'timeOnSite',\n",
       " 'totalTransactionRevenue',\n",
       " 'first_hitNumber',\n",
       " 'last_hitNumber',\n",
       " 'Diff_hitNumber',\n",
       " 'Diff_timeMicroSec',\n",
       " 'Diff_hitHour',\n",
       " 'Diff_hitMin',\n",
       " 'first_Action_type',\n",
       " 'last_Action_type']"
      ]
     },
     "execution_count": 49,
     "metadata": {},
     "output_type": "execute_result"
    }
   ],
   "source": [
    "partitionCal_df.columns"
   ]
  },
  {
   "cell_type": "code",
   "execution_count": 50,
   "metadata": {
    "collapsed": true
   },
   "outputs": [],
   "source": [
    "def f_removeLastItem(list):\n",
    "    list.pop()\n",
    "    return list"
   ]
  },
  {
   "cell_type": "code",
   "execution_count": 51,
   "metadata": {
    "collapsed": true
   },
   "outputs": [],
   "source": [
    "removeLastItem = func.udf(lambda x:removeLastItem(x))"
   ]
  },
  {
   "cell_type": "code",
   "execution_count": 52,
   "metadata": {
    "collapsed": true
   },
   "outputs": [],
   "source": [
    "collectList_df = partitionCal_df.groupBy([\n",
    "'source',\n",
    " ##'isTrueDirect',\n",
    " ##'sourceKeyword',\n",
    " ##'medium',\n",
    " 'isVideoAd',\n",
    " 'fullVisitorId',\n",
    " 'visitId',\n",
    " #'date',\n",
    " ##'newVisits',\n",
    " ##'hitReferer',\n",
    " #'hitType',\n",
    " #'hitAction_type',\n",
    " #'hitNumber',\n",
    " #'hitHour',\n",
    " #'hitMin',\n",
    " #'timeMicroSec',\n",
    " #'v2ProductName',\n",
    " #'productListName',\n",
    " #'isClick',\n",
    " #'isImpression',\n",
    " ##'sessionQualityDim',\n",
    " #'timeOnSite',\n",
    " #'totalTransactionRevenue',\n",
    " 'first_hitNumber',\n",
    " 'last_hitNumber',\n",
    " 'Diff_hitNumber',\n",
    " 'Diff_timeMicroSec',\n",
    " 'Diff_hitHour',\n",
    " 'Diff_hitMin',\n",
    " 'first_Action_type',\n",
    " 'last_Action_type']).agg(func.collect_list('hitAction_type'))\\\n",
    "#.withColumn('collect_list(hitAction_type)',removeLastItem(col('collect_list(hitAction_type)')))"
   ]
  },
  {
   "cell_type": "markdown",
   "metadata": {},
   "source": [
    "##### The action type. Click through of product lists = 1, Product detail views = 2, Add product(s) to cart = 3, Remove product(s) from cart = 4, Check out = 5, Completed purchase = 6, Refund of purchase = 7, Checkout options = 8, Unknown = 0."
   ]
  },
  {
   "cell_type": "markdown",
   "metadata": {},
   "source": [
    "### Feature Selection"
   ]
  },
  {
   "cell_type": "code",
   "execution_count": 53,
   "metadata": {
    "collapsed": true
   },
   "outputs": [],
   "source": [
    "funnel_col_list = collectList_df.columns"
   ]
  },
  {
   "cell_type": "code",
   "execution_count": 54,
   "metadata": {},
   "outputs": [
    {
     "data": {
      "text/plain": [
       "['source',\n",
       " 'isVideoAd',\n",
       " 'fullVisitorId',\n",
       " 'visitId',\n",
       " 'first_hitNumber',\n",
       " 'last_hitNumber',\n",
       " 'Diff_hitNumber',\n",
       " 'Diff_timeMicroSec',\n",
       " 'Diff_hitHour',\n",
       " 'Diff_hitMin',\n",
       " 'first_Action_type',\n",
       " 'last_Action_type',\n",
       " 'collect_list(hitAction_type)']"
      ]
     },
     "execution_count": 54,
     "metadata": {},
     "output_type": "execute_result"
    }
   ],
   "source": [
    "funnel_col_list"
   ]
  },
  {
   "cell_type": "code",
   "execution_count": 55,
   "metadata": {
    "collapsed": true
   },
   "outputs": [],
   "source": [
    "raw_funnel_df = collectList_df.select(['fullVisitorId',\n",
    " 'visitId',\n",
    " 'first_hitNumber',\n",
    " 'last_hitNumber',\n",
    " 'Diff_hitNumber',\n",
    " 'Diff_hitHour',\n",
    " 'Diff_hitMin',\n",
    " 'Diff_timeMicroSec',\n",
    " 'first_Action_type',\n",
    " 'last_Action_type',\n",
    " 'collect_list(hitAction_type)'])"
   ]
  },
  {
   "cell_type": "code",
   "execution_count": null,
   "metadata": {
    "collapsed": true
   },
   "outputs": [],
   "source": []
  },
  {
   "cell_type": "markdown",
   "metadata": {},
   "source": [
    "### Declare Functions for Removing Duplication and Last items in List"
   ]
  },
  {
   "cell_type": "code",
   "execution_count": 56,
   "metadata": {
    "collapsed": true
   },
   "outputs": [],
   "source": [
    "def f_removedupINLIST(l):\n",
    "    seen = set()\n",
    "    new_list = [x for x in l if not (x in seen or seen.add(x))]\n",
    "    new_list.pop()\n",
    "    return new_list"
   ]
  },
  {
   "cell_type": "code",
   "execution_count": 57,
   "metadata": {
    "collapsed": true
   },
   "outputs": [],
   "source": [
    "removedupINLIST = func.udf(lambda x: f_removedupINLIST(x))"
   ]
  },
  {
   "cell_type": "code",
   "execution_count": 58,
   "metadata": {},
   "outputs": [
    {
     "data": {
      "text/plain": [
       "['fullVisitorId',\n",
       " 'visitId',\n",
       " 'first_hitNumber',\n",
       " 'last_hitNumber',\n",
       " 'Diff_hitNumber',\n",
       " 'Diff_hitHour',\n",
       " 'Diff_hitMin',\n",
       " 'Diff_timeMicroSec',\n",
       " 'first_Action_type',\n",
       " 'last_Action_type',\n",
       " 'collect_list(hitAction_type)']"
      ]
     },
     "execution_count": 58,
     "metadata": {},
     "output_type": "execute_result"
    }
   ],
   "source": [
    "raw_funnel_df.columns"
   ]
  },
  {
   "cell_type": "code",
   "execution_count": 59,
   "metadata": {
    "collapsed": true
   },
   "outputs": [],
   "source": [
    "f_length_list = func.udf(lambda x: len(x),IntegerType())"
   ]
  },
  {
   "cell_type": "raw",
   "metadata": {
    "collapsed": true
   },
   "source": [
    "seq_funnel_df = raw_funnel_df.withColumn('length_hitAction_type'\\\n",
    "                                         ,f_length_list(col('collect_list(hitAction_type)')))"
   ]
  },
  {
   "cell_type": "code",
   "execution_count": 60,
   "metadata": {
    "collapsed": true
   },
   "outputs": [],
   "source": [
    "seq_funnel_df = raw_funnel_df.withColumn('seq_hitAction_type',removedupINLIST(col('collect_list(hitAction_type)')))\\\n",
    ".withColumn('length_hitAction_type',f_length_list(col('collect_list(hitAction_type)')))"
   ]
  },
  {
   "cell_type": "code",
   "execution_count": 61,
   "metadata": {},
   "outputs": [
    {
     "data": {
      "text/plain": [
       "['fullVisitorId',\n",
       " 'visitId',\n",
       " 'first_hitNumber',\n",
       " 'last_hitNumber',\n",
       " 'Diff_hitNumber',\n",
       " 'Diff_hitHour',\n",
       " 'Diff_hitMin',\n",
       " 'Diff_timeMicroSec',\n",
       " 'first_Action_type',\n",
       " 'last_Action_type',\n",
       " 'collect_list(hitAction_type)',\n",
       " 'seq_hitAction_type',\n",
       " 'length_hitAction_type']"
      ]
     },
     "execution_count": 61,
     "metadata": {},
     "output_type": "execute_result"
    }
   ],
   "source": [
    "seq_funnel_df.columns"
   ]
  },
  {
   "cell_type": "code",
   "execution_count": 62,
   "metadata": {},
   "outputs": [
    {
     "data": {
      "text/plain": [
       "DataFrame[fullVisitorId: string, visitId: string, first_hitNumber: int, last_hitNumber: int, Diff_hitNumber: int, Diff_hitHour: int, Diff_hitMin: int, Diff_timeMicroSec: int, first_Action_type: string, last_Action_type: float, collect_list(hitAction_type): array<string>, seq_hitAction_type: string, length_hitAction_type: int]"
      ]
     },
     "execution_count": 62,
     "metadata": {},
     "output_type": "execute_result"
    }
   ],
   "source": [
    "seq_funnel_df"
   ]
  },
  {
   "cell_type": "markdown",
   "metadata": {},
   "source": [
    "seq_funnel_df.groupBy('length_hitAction_type','last_Action_type').count()\\\n",
    ".orderBy(col('last_Action_type').desc(),col('length_hitAction_type').asc()).show()"
   ]
  },
  {
   "cell_type": "markdown",
   "metadata": {},
   "source": [
    "##### The action type. Click through of product lists = 1, Product detail views = 2, Add product(s) to cart = 3, Remove product(s) from cart = 4, Check out = 5, Completed purchase = 6, Refund of purchase = 7, Checkout options = 8, Unknown = 0."
   ]
  },
  {
   "cell_type": "code",
   "execution_count": 63,
   "metadata": {},
   "outputs": [
    {
     "name": "stdout",
     "output_type": "stream",
     "text": [
      "root\n",
      " |-- fullVisitorId: string (nullable = true)\n",
      " |-- visitId: string (nullable = true)\n",
      " |-- first_hitNumber: integer (nullable = true)\n",
      " |-- last_hitNumber: integer (nullable = true)\n",
      " |-- Diff_hitNumber: integer (nullable = true)\n",
      " |-- Diff_hitHour: integer (nullable = true)\n",
      " |-- Diff_hitMin: integer (nullable = true)\n",
      " |-- Diff_timeMicroSec: integer (nullable = true)\n",
      " |-- first_Action_type: string (nullable = true)\n",
      " |-- last_Action_type: float (nullable = true)\n",
      " |-- collect_list(hitAction_type): array (nullable = true)\n",
      " |    |-- element: string (containsNull = true)\n",
      " |-- seq_hitAction_type: string (nullable = true)\n",
      " |-- length_hitAction_type: integer (nullable = true)\n",
      "\n"
     ]
    }
   ],
   "source": [
    "seq_funnel_df.printSchema()"
   ]
  },
  {
   "cell_type": "markdown",
   "metadata": {},
   "source": [
    "seq_funnel_df.count()"
   ]
  },
  {
   "cell_type": "code",
   "execution_count": 64,
   "metadata": {
    "collapsed": true
   },
   "outputs": [],
   "source": [
    "final_df = seq_funnel_df"
   ]
  },
  {
   "cell_type": "code",
   "execution_count": 65,
   "metadata": {
    "collapsed": true
   },
   "outputs": [],
   "source": [
    "#final_df.select(['fullVisitorId','visitId']).distinct().count()"
   ]
  },
  {
   "cell_type": "markdown",
   "metadata": {},
   "source": [
    "final_df.filter(col('last_Action_type') == '4')\\\n",
    ".select(['last_Action_type','collect_list(hitAction_type)']).take(100)"
   ]
  },
  {
   "cell_type": "markdown",
   "metadata": {},
   "source": [
    "final_df.count()"
   ]
  },
  {
   "cell_type": "code",
   "execution_count": 66,
   "metadata": {
    "collapsed": true
   },
   "outputs": [],
   "source": [
    "lengthAction_and_lastAction_pd = final_df\\\n",
    ".select(['length_hitAction_type','first_hitNumber',\\\n",
    "         'Diff_hitHour','Diff_hitMin','Diff_timeMicroSec','last_Action_type']).toPandas()"
   ]
  },
  {
   "cell_type": "code",
   "execution_count": null,
   "metadata": {
    "collapsed": true
   },
   "outputs": [],
   "source": []
  },
  {
   "cell_type": "code",
   "execution_count": 67,
   "metadata": {
    "collapsed": true
   },
   "outputs": [],
   "source": [
    "import pandas as pd\n",
    "import seaborn as sn\n",
    "import matplotlib.pyplot as plt"
   ]
  },
  {
   "cell_type": "code",
   "execution_count": 68,
   "metadata": {},
   "outputs": [
    {
     "name": "stderr",
     "output_type": "stream",
     "text": [
      "/root/anaconda3/lib/python3.6/site-packages/matplotlib/font_manager.py:1297: UserWarning: findfont: Font family ['sans-serif'] not found. Falling back to DejaVu Sans\n",
      "  (prop.get_family(), self.defaultFamily[fontext]))\n"
     ]
    },
    {
     "data": {
      "image/png": "[encoded data removed]",
      "text/plain": [
       "<matplotlib.figure.Figure at 0x7ffd3a00c240>"
      ]
     },
     "metadata": {},
     "output_type": "display_data"
    }
   ],
   "source": [
    "corrMatrix = lengthAction_and_lastAction_pd.corr()\n",
    "sn.heatmap(corrMatrix, annot=True)\n",
    "plt.show()"
   ]
  },
  {
   "cell_type": "markdown",
   "metadata": {},
   "source": [
    "# 3. Data Modeling"
   ]
  },
  {
   "cell_type": "code",
   "execution_count": 69,
   "metadata": {
    "collapsed": true
   },
   "outputs": [],
   "source": [
    "import pyspark\n",
    "from pyspark.sql import SQLContext\n",
    "from pyspark.sql.types import *\n",
    "from pyspark.ml.feature import OneHotEncoder, StringIndexer\n",
    "from pyspark.ml.feature import VectorAssembler\n",
    "from pyspark.mllib.clustering import KMeans, KMeansModel\n",
    "from pyspark.ml.feature import StringIndexer, VectorAssembler, OneHotEncoder,\\\n",
    "VectorIndexer, QuantileDiscretizer\n",
    "from pyspark.ml.tuning import ParamGridBuilder, CrossValidator\n",
    "from pyspark.ml.evaluation import MulticlassClassificationEvaluator, BinaryClassificationEvaluator\n",
    "from pyspark.ml.classification import LogisticRegression, GBTClassifier, NaiveBayes, RandomForestClassifier, DecisionTreeClassifier\n",
    "from pyspark.ml import Pipeline\n",
    "from pyspark.ml.clustering import *\n",
    "from pyspark.ml.feature import Bucketizer"
   ]
  },
  {
   "cell_type": "code",
   "execution_count": 70,
   "metadata": {
    "collapsed": true
   },
   "outputs": [],
   "source": [
    "def get_evaluation(trainingSet,testingSet,algo,\\\n",
    "                   categoricalCols,continuousCols,discretedCols,split_range,labelCol):\n",
    "\n",
    "    from pyspark.ml import Pipeline\n",
    "    from pyspark.ml.feature import StringIndexer, OneHotEncoder, VectorAssembler\n",
    "    from pyspark.sql.functions import col\n",
    "    \n",
    "    \n",
    "    labelIndexer = StringIndexer(inputCol=labelCol,\\\n",
    "                             outputCol='indexedLabel',\\\n",
    "                             handleInvalid='keep')\n",
    "\n",
    "    indexers = [ StringIndexer(handleInvalid='keep',\\\n",
    "                               inputCol=c, outputCol=\"{0}_indexed\".format(c))\n",
    "                 for c in categoricalCols ]\n",
    "\n",
    "    # default setting: dropLast=True\n",
    "    encoders = [ OneHotEncoder(inputCol=indexer.getOutputCol(),\n",
    "                 outputCol=\"{0}_encoded\".format(indexer.getOutputCol()))\n",
    "                 for indexer in indexers ]\n",
    "    discretizers = [ Bucketizer(inputCol=d, outputCol=\"{0}_discretized\".format(d)\\\n",
    "                 ,splits=split_range)\n",
    "                 for d in discretedCols ]\n",
    "    \n",
    "    \n",
    "    featureCols = ['features']\n",
    "    assembler = VectorAssembler(inputCols=[encoder.getOutputCol() for encoder in encoders]\n",
    "                                + continuousCols +\\\n",
    "                                [discretizer.getOutputCol() for discretizer in discretizers], \\\n",
    "                                outputCol='features')\n",
    "    \n",
    "    \n",
    "    #var_name = algo\n",
    "    ml_algorithm = algo(featuresCol='features',\\\n",
    "                                labelCol=labelCol)\n",
    "    \n",
    "\n",
    "\n",
    "    pipeline = Pipeline(stages=indexers + encoders + discretizers + \\\n",
    "                        [assembler] + [ml_algorithm])\n",
    "    \n",
    "    \n",
    "\n",
    "    model=pipeline.fit(trainingSet)\n",
    "    result_df = model.transform(testingSet)\n",
    "    evaluator_RF = MulticlassClassificationEvaluator(predictionCol=\"prediction\",\\\n",
    "                                              labelCol=labelCol, metricName='accuracy')\n",
    "    print(algo,'====>',evaluator_RF.evaluate(result_df)*100)\n",
    "\n",
    "    return model"
   ]
  },
  {
   "cell_type": "code",
   "execution_count": 71,
   "metadata": {},
   "outputs": [
    {
     "name": "stdout",
     "output_type": "stream",
     "text": [
      "root\n",
      " |-- fullVisitorId: string (nullable = true)\n",
      " |-- visitId: string (nullable = true)\n",
      " |-- first_hitNumber: integer (nullable = true)\n",
      " |-- last_hitNumber: integer (nullable = true)\n",
      " |-- Diff_hitNumber: integer (nullable = true)\n",
      " |-- Diff_hitHour: integer (nullable = true)\n",
      " |-- Diff_hitMin: integer (nullable = true)\n",
      " |-- Diff_timeMicroSec: integer (nullable = true)\n",
      " |-- first_Action_type: string (nullable = true)\n",
      " |-- last_Action_type: float (nullable = true)\n",
      " |-- collect_list(hitAction_type): array (nullable = true)\n",
      " |    |-- element: string (containsNull = true)\n",
      " |-- seq_hitAction_type: string (nullable = true)\n",
      " |-- length_hitAction_type: integer (nullable = true)\n",
      "\n"
     ]
    }
   ],
   "source": [
    "final_df.printSchema()"
   ]
  },
  {
   "cell_type": "code",
   "execution_count": 72,
   "metadata": {
    "collapsed": true
   },
   "outputs": [],
   "source": [
    "catcols = [\\\n",
    "###'first_Action_type',\n",
    "           'seq_hitAction_type'\n",
    "          ]\n",
    "\n",
    "num_cols = [\\\n",
    "###'first_hitNumber',\n",
    " #'last_hitNumber',\n",
    " #'Diff_hitNumber',\n",
    " #'Diff_hitHour',\n",
    " #'Diff_hitMin',\n",
    " 'Diff_timeMicroSec',\n",
    "            'length_hitAction_type'\n",
    "           ]\n",
    "\n",
    "discols = [\\\n",
    "           #'pub_rec',\\\n",
    "           #'seq_hitAction_type'\\\n",
    "          ]\n",
    "\n",
    "\n",
    "\n",
    "labelCol = 'last_Action_type'\n",
    "\n",
    "splits = [-1.0, 0.0, 10.0, 20.0, 30.0, 40.0, float(\"inf\")]\n",
    "\n",
    "#selected_algo = [DecisionTreeClassifier, RandomForestClassifier, NaiveBayes, LogisticRegression]\n",
    "selected_algo = [LogisticRegression]"
   ]
  },
  {
   "cell_type": "code",
   "execution_count": 73,
   "metadata": {
    "collapsed": true
   },
   "outputs": [],
   "source": [
    "training_df, testing_df = final_df.randomSplit(weights = [0.80, 0.20], seed = 13)"
   ]
  },
  {
   "cell_type": "code",
   "execution_count": 74,
   "metadata": {},
   "outputs": [
    {
     "name": "stdout",
     "output_type": "stream",
     "text": [
      "<class 'pyspark.ml.classification.LogisticRegression'> ====> 89.48542692212345\n"
     ]
    }
   ],
   "source": [
    "for a in selected_algo:\n",
    "    model = get_evaluation(training_df,testing_df,a,catcols,num_cols,discols, splits, labelCol)"
   ]
  },
  {
   "cell_type": "code",
   "execution_count": 75,
   "metadata": {},
   "outputs": [
    {
     "data": {
      "text/plain": [
       "225515"
      ]
     },
     "execution_count": 75,
     "metadata": {},
     "output_type": "execute_result"
    }
   ],
   "source": [
    "training_df.count()"
   ]
  },
  {
   "cell_type": "code",
   "execution_count": 76,
   "metadata": {},
   "outputs": [
    {
     "data": {
      "text/plain": [
       "56474"
      ]
     },
     "execution_count": 76,
     "metadata": {},
     "output_type": "execute_result"
    }
   ],
   "source": [
    "testing_df.count()"
   ]
  },
  {
   "cell_type": "code",
   "execution_count": 77,
   "metadata": {},
   "outputs": [
    {
     "data": {
      "text/plain": [
       "DataFrame[fullVisitorId: string, visitId: string, first_hitNumber: int, last_hitNumber: int, Diff_hitNumber: int, Diff_hitHour: int, Diff_hitMin: int, Diff_timeMicroSec: int, first_Action_type: string, last_Action_type: float, collect_list(hitAction_type): array<string>, seq_hitAction_type: string, length_hitAction_type: int]"
      ]
     },
     "execution_count": 77,
     "metadata": {},
     "output_type": "execute_result"
    }
   ],
   "source": [
    "testing_df"
   ]
  },
  {
   "cell_type": "code",
   "execution_count": 78,
   "metadata": {},
   "outputs": [
    {
     "name": "stdout",
     "output_type": "stream",
     "text": [
      "+----------------+-----+\n",
      "|last_Action_type|count|\n",
      "+----------------+-----+\n",
      "|             0.0|48296|\n",
      "|             1.0|  855|\n",
      "|             2.0| 2932|\n",
      "|             3.0| 1726|\n",
      "|             4.0|  328|\n",
      "|             5.0| 1005|\n",
      "|             6.0| 1332|\n",
      "+----------------+-----+\n",
      "\n"
     ]
    }
   ],
   "source": [
    "testing_df.groupBy('last_Action_type').count().orderBy('last_Action_type').show()"
   ]
  },
  {
   "cell_type": "code",
   "execution_count": 79,
   "metadata": {},
   "outputs": [
    {
     "name": "stdout",
     "output_type": "stream",
     "text": [
      "+----------------+----------+-----+\n",
      "|last_Action_type|prediction|count|\n",
      "+----------------+----------+-----+\n",
      "|             0.0|       0.0|47085|\n",
      "|             1.0|       1.0|   25|\n",
      "|             2.0|       2.0|   43|\n",
      "|             3.0|       3.0| 1278|\n",
      "|             4.0|       4.0|    1|\n",
      "|             5.0|       5.0|  786|\n",
      "|             6.0|       6.0| 1318|\n",
      "+----------------+----------+-----+\n",
      "\n"
     ]
    }
   ],
   "source": [
    "model.transform(testing_df).filter(col(labelCol) == col('prediction'))\\\n",
    ".groupBy(labelCol,'prediction').count().orderBy(labelCol).show()"
   ]
  },
  {
   "cell_type": "code",
   "execution_count": 80,
   "metadata": {},
   "outputs": [
    {
     "name": "stdout",
     "output_type": "stream",
     "text": [
      "+----------------+----------+-----+\n",
      "|last_Action_type|prediction|count|\n",
      "+----------------+----------+-----+\n",
      "|             0.0|       2.0|    2|\n",
      "|             0.0|       4.0|    1|\n",
      "|             0.0|       3.0|  835|\n",
      "|             0.0|       5.0|  254|\n",
      "|             0.0|       6.0|  119|\n",
      "|             1.0|       5.0|    8|\n",
      "|             1.0|       0.0|  792|\n",
      "|             1.0|       3.0|   23|\n",
      "|             1.0|       6.0|    4|\n",
      "|             1.0|       2.0|    3|\n",
      "|             2.0|       1.0|   12|\n",
      "|             2.0|       0.0| 2794|\n",
      "|             2.0|       6.0|    9|\n",
      "|             2.0|       3.0|   51|\n",
      "|             2.0|       5.0|   23|\n",
      "|             3.0|       6.0|    5|\n",
      "|             3.0|       0.0|  383|\n",
      "|             3.0|       4.0|    1|\n",
      "|             3.0|       5.0|   57|\n",
      "|             3.0|       2.0|    2|\n",
      "|             4.0|       6.0|   59|\n",
      "|             4.0|       0.0|   45|\n",
      "|             4.0|       3.0|   26|\n",
      "|             4.0|       5.0|  197|\n",
      "|             5.0|       6.0|   25|\n",
      "|             5.0|       0.0|  120|\n",
      "|             5.0|       3.0|   74|\n",
      "|             6.0|       5.0|    3|\n",
      "|             6.0|       4.0|    1|\n",
      "|             6.0|       0.0|   10|\n",
      "+----------------+----------+-----+\n",
      "\n"
     ]
    }
   ],
   "source": [
    "model.transform(testing_df).filter(col(labelCol) != col('prediction'))\\\n",
    ".groupBy(labelCol,'prediction').count().orderBy(labelCol).show(100)"
   ]
  },
  {
   "cell_type": "code",
   "execution_count": null,
   "metadata": {
    "collapsed": true
   },
   "outputs": [],
   "source": []
  },
  {
   "cell_type": "code",
   "execution_count": null,
   "metadata": {
    "collapsed": true
   },
   "outputs": [],
   "source": []
  },
  {
   "cell_type": "code",
   "execution_count": null,
   "metadata": {
    "collapsed": true
   },
   "outputs": [],
   "source": []
  },
  {
   "cell_type": "markdown",
   "metadata": {},
   "source": [
    "# TRUE = 6, FALSE = 0"
   ]
  },
  {
   "cell_type": "markdown",
   "metadata": {},
   "source": [
    "testing.select(['las_'])"
   ]
  },
  {
   "cell_type": "markdown",
   "metadata": {
    "collapsed": true
   },
   "source": [
    "! ls -l latestmodel"
   ]
  },
  {
   "cell_type": "markdown",
   "metadata": {
    "collapsed": true
   },
   "source": [
    "model.write().overwrite().save('./modelwith2Feature')"
   ]
  },
  {
   "cell_type": "markdown",
   "metadata": {
    "collapsed": true
   },
   "source": [
    "model.transform(testing_df).take(3)"
   ]
  },
  {
   "cell_type": "code",
   "execution_count": null,
   "metadata": {
    "collapsed": true
   },
   "outputs": [],
   "source": []
  },
  {
   "cell_type": "code",
   "execution_count": null,
   "metadata": {
    "collapsed": true
   },
   "outputs": [],
   "source": []
  },
  {
   "cell_type": "code",
   "execution_count": null,
   "metadata": {
    "collapsed": true
   },
   "outputs": [],
   "source": []
  },
  {
   "cell_type": "code",
   "execution_count": null,
   "metadata": {
    "collapsed": true
   },
   "outputs": [],
   "source": []
  },
  {
   "cell_type": "code",
   "execution_count": null,
   "metadata": {
    "collapsed": true
   },
   "outputs": [],
   "source": []
  },
  {
   "cell_type": "code",
   "execution_count": null,
   "metadata": {
    "collapsed": true
   },
   "outputs": [],
   "source": []
  },
  {
   "cell_type": "code",
   "execution_count": null,
   "metadata": {
    "collapsed": true
   },
   "outputs": [],
   "source": []
  },
  {
   "cell_type": "code",
   "execution_count": null,
   "metadata": {
    "collapsed": true
   },
   "outputs": [],
   "source": []
  }
 ],
 "metadata": {
  "anaconda-cloud": {},
  "kernelspec": {
   "display_name": "Python 3",
   "language": "python",
   "name": "python3"
  },
  "language_info": {
   "codemirror_mode": {
    "name": "ipython",
    "version": 3
   },
   "file_extension": ".py",
   "mimetype": "text/x-python",
   "name": "python",
   "nbconvert_exporter": "python",
   "pygments_lexer": "ipython3",
   "version": "3.6.1"
  }
 },
 "nbformat": 4,
 "nbformat_minor": 1
}
