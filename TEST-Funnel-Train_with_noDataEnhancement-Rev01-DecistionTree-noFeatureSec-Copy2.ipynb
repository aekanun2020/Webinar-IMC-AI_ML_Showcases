{
 "cells": [
  {
   "cell_type": "code",
   "execution_count": 1,
   "metadata": {},
   "outputs": [
    {
     "data": {
      "text/html": [
       "\n",
       "            <div>\n",
       "                <p><b>SparkSession - hive</b></p>\n",
       "                \n",
       "        <div>\n",
       "            <p><b>SparkContext</b></p>\n",
       "\n",
       "            <p><a href=\"http://192.168.20.1:4040\">Spark UI</a></p>\n",
       "\n",
       "            <dl>\n",
       "              <dt>Version</dt>\n",
       "                <dd><code>v2.4.0</code></dd>\n",
       "              <dt>Master</dt>\n",
       "                <dd><code>spark://192.168.20.1:7077</code></dd>\n",
       "              <dt>AppName</dt>\n",
       "                <dd><code>PySparkShell</code></dd>\n",
       "            </dl>\n",
       "        </div>\n",
       "        \n",
       "            </div>\n",
       "        "
      ],
      "text/plain": [
       "<pyspark.sql.session.SparkSession at 0x7fccf19253c8>"
      ]
     },
     "execution_count": 1,
     "metadata": {},
     "output_type": "execute_result"
    }
   ],
   "source": [
    "spark"
   ]
  },
  {
   "cell_type": "markdown",
   "metadata": {},
   "source": [
    "spark.stop()"
   ]
  },
  {
   "cell_type": "markdown",
   "metadata": {},
   "source": [
    "spark = SparkSession \\\n",
    "    .builder \\\n",
    "    .appName(\"Funnel\") \\\n",
    "    .master(\"yarn\") \\\n",
    "    .config(\"spark.total.executor.cores\",\"12\")\\\n",
    "    .config(\"spark.executor.memory\",\"1G\")\\\n",
    "    .getOrCreate();"
   ]
  },
  {
   "cell_type": "code",
   "execution_count": 2,
   "metadata": {
    "collapsed": true
   },
   "outputs": [],
   "source": [
    "header_text = \"source,isTrueDirect,sourceKeyword,medium,isVideoAd,fullVisitorId,visitId,date,newVisits,hitReferer,hitType,hitAction_type,hitNumber,hitHour,hitMin,timeMicroSec,v2ProductName,productListName,isClick,isImpression,sessionQualityDim,timeOnScreen,timeOnSite,totalTransactionRevenue\""
   ]
  },
  {
   "cell_type": "code",
   "execution_count": 3,
   "metadata": {
    "collapsed": true
   },
   "outputs": [],
   "source": [
    "from pyspark.sql.types import *"
   ]
  },
  {
   "cell_type": "code",
   "execution_count": 4,
   "metadata": {
    "collapsed": true
   },
   "outputs": [],
   "source": [
    "attr_list = []"
   ]
  },
  {
   "cell_type": "code",
   "execution_count": 5,
   "metadata": {
    "collapsed": true
   },
   "outputs": [],
   "source": [
    "for each_attr in header_text.split(','):\n",
    "    attr_list.append(StructField(each_attr, StringType(), True))\n"
   ]
  },
  {
   "cell_type": "code",
   "execution_count": 6,
   "metadata": {
    "collapsed": true
   },
   "outputs": [],
   "source": [
    "custom_schema = StructType(attr_list)"
   ]
  },
  {
   "cell_type": "code",
   "execution_count": 7,
   "metadata": {},
   "outputs": [
    {
     "data": {
      "text/plain": [
       "StructType(List(StructField(source,StringType,true),StructField(isTrueDirect,StringType,true),StructField(sourceKeyword,StringType,true),StructField(medium,StringType,true),StructField(isVideoAd,StringType,true),StructField(fullVisitorId,StringType,true),StructField(visitId,StringType,true),StructField(date,StringType,true),StructField(newVisits,StringType,true),StructField(hitReferer,StringType,true),StructField(hitType,StringType,true),StructField(hitAction_type,StringType,true),StructField(hitNumber,StringType,true),StructField(hitHour,StringType,true),StructField(hitMin,StringType,true),StructField(timeMicroSec,StringType,true),StructField(v2ProductName,StringType,true),StructField(productListName,StringType,true),StructField(isClick,StringType,true),StructField(isImpression,StringType,true),StructField(sessionQualityDim,StringType,true),StructField(timeOnScreen,StringType,true),StructField(timeOnSite,StringType,true),StructField(totalTransactionRevenue,StringType,true)))"
      ]
     },
     "execution_count": 7,
     "metadata": {},
     "output_type": "execute_result"
    }
   ],
   "source": [
    "custom_schema"
   ]
  },
  {
   "cell_type": "code",
   "execution_count": 8,
   "metadata": {
    "collapsed": true
   },
   "outputs": [],
   "source": [
    "raw_df = spark.read.format('csv').schema(custom_schema).option('header','true').option('mode','DROPMALFORMED')\\\n",
    ".load('/root/funnel/*')"
   ]
  },
  {
   "cell_type": "code",
   "execution_count": 9,
   "metadata": {},
   "outputs": [
    {
     "name": "stdout",
     "output_type": "stream",
     "text": [
      "total 1659324\r\n",
      "133772 -rw-r--r-- 1 root root 136974517 Nov 27 11:30 000000000000\r\n",
      "163700 -rw-r--r-- 1 root root 167622584 Nov 27 11:30 000000000001\r\n",
      "148560 -rw-r--r-- 1 root root 152118014 Nov 27 11:30 000000000002\r\n",
      "164844 -rw-r--r-- 1 root root 168793956 Nov 27 11:30 000000000003\r\n",
      "154620 -rw-r--r-- 1 root root 158326709 Nov 27 11:30 000000000004\r\n",
      "199532 -rw-r--r-- 1 root root 204312912 Nov 27 11:30 000000000005\r\n",
      "172656 -rw-r--r-- 1 root root 176794215 Nov 27 11:30 000000000006\r\n",
      "195344 -rw-r--r-- 1 root root 200026989 Nov 27 11:30 000000000007\r\n",
      "155880 -rw-r--r-- 1 root root 159615699 Nov 27 11:31 000000000008\r\n",
      "170416 -rw-r--r-- 1 root root 174500181 Nov 27 11:31 000000000009\r\n"
     ]
    }
   ],
   "source": [
    "! ls -ls /root/funnel"
   ]
  },
  {
   "cell_type": "code",
   "execution_count": 10,
   "metadata": {},
   "outputs": [
    {
     "name": "stdout",
     "output_type": "stream",
     "text": [
      "11375061\r\n"
     ]
    }
   ],
   "source": [
    "! cat /root/funnel/* | wc -l"
   ]
  },
  {
   "cell_type": "code",
   "execution_count": 11,
   "metadata": {},
   "outputs": [
    {
     "name": "stdout",
     "output_type": "stream",
     "text": [
      "source,isTrueDirect,sourceKeyword,medium,isVideoAd,fullVisitorId,visitId,date,newVisits,hitReferer,hitType,hitAction_type,hitNumber,hitHour,hitMin,timeMicroSec,v2ProductName,productListName,isClick,isImpression,sessionQualityDim,timeOnScreen,timeOnSite,totalTransactionRevenue\r\n",
      "google,true,(not provided),organic,,4988612949713423910,1489617360,20170315,,,PAGE,0,28,15,46,608771,Google Accent Insulated Stainless Steel Bottle,Category,,true,,,1897,\r\n",
      "google,true,(not provided),organic,,4988612949713423910,1489617360,20170315,,,PAGE,0,27,15,46,605064,Google Pocket Bluetooth Speaker,Category,,true,,,1897,\r\n"
     ]
    }
   ],
   "source": [
    "! head -3 /root/funnel/000000000000"
   ]
  },
  {
   "cell_type": "code",
   "execution_count": 12,
   "metadata": {
    "collapsed": true
   },
   "outputs": [],
   "source": [
    "mem_raw_df = raw_df.repartition(60).cache()"
   ]
  },
  {
   "cell_type": "markdown",
   "metadata": {},
   "source": [
    "### Numbers of Rows"
   ]
  },
  {
   "cell_type": "markdown",
   "metadata": {},
   "source": [
    "mem_raw_df.count()"
   ]
  },
  {
   "cell_type": "markdown",
   "metadata": {},
   "source": [
    "mem_raw_df.columns"
   ]
  },
  {
   "cell_type": "code",
   "execution_count": 13,
   "metadata": {
    "collapsed": true
   },
   "outputs": [],
   "source": [
    "allCol_list = mem_raw_df.columns"
   ]
  },
  {
   "cell_type": "code",
   "execution_count": 14,
   "metadata": {
    "collapsed": true
   },
   "outputs": [],
   "source": [
    "removeCol_list = ['timeOnScreen']"
   ]
  },
  {
   "cell_type": "code",
   "execution_count": 15,
   "metadata": {
    "collapsed": true
   },
   "outputs": [],
   "source": [
    "for i in removeCol_list:\n",
    "    allCol_list.remove(i)"
   ]
  },
  {
   "cell_type": "code",
   "execution_count": 16,
   "metadata": {
    "collapsed": true
   },
   "outputs": [],
   "source": [
    "newCol_list = []"
   ]
  },
  {
   "cell_type": "code",
   "execution_count": 17,
   "metadata": {
    "collapsed": true
   },
   "outputs": [],
   "source": [
    "newCol_list = allCol_list"
   ]
  },
  {
   "cell_type": "code",
   "execution_count": 18,
   "metadata": {
    "collapsed": true
   },
   "outputs": [],
   "source": [
    "filtered_raw_df = mem_raw_df.select(newCol_list)"
   ]
  },
  {
   "cell_type": "markdown",
   "metadata": {},
   "source": [
    "# 2. Data Preparation"
   ]
  },
  {
   "cell_type": "markdown",
   "metadata": {},
   "source": [
    "## Data Cleansing"
   ]
  },
  {
   "cell_type": "code",
   "execution_count": 19,
   "metadata": {
    "collapsed": true
   },
   "outputs": [],
   "source": [
    "from pyspark.sql.functions import udf\n",
    "from pyspark.sql.types import *"
   ]
  },
  {
   "cell_type": "markdown",
   "metadata": {},
   "source": [
    "### Remove Null"
   ]
  },
  {
   "cell_type": "code",
   "execution_count": 20,
   "metadata": {
    "collapsed": true
   },
   "outputs": [],
   "source": [
    "def f_removenull(origin):\n",
    "    if origin == None:\n",
    "        return 'NULL'\n",
    "    else:\n",
    "        return origin"
   ]
  },
  {
   "cell_type": "code",
   "execution_count": 21,
   "metadata": {
    "collapsed": true
   },
   "outputs": [],
   "source": [
    "removenull = udf(lambda x: f_removenull(x),StringType())"
   ]
  },
  {
   "cell_type": "markdown",
   "metadata": {},
   "source": [
    "### Make Binary"
   ]
  },
  {
   "cell_type": "code",
   "execution_count": 22,
   "metadata": {
    "collapsed": true
   },
   "outputs": [],
   "source": [
    "def f_makebinary(origin):\n",
    "    if origin == None:\n",
    "        return 'FALSE'\n",
    "    elif origin == 'true':\n",
    "        return 'TRUE'\n",
    "    elif origin == '1':\n",
    "        return 'TRUE'\n",
    "    else:\n",
    "        return 'NULL'"
   ]
  },
  {
   "cell_type": "code",
   "execution_count": 23,
   "metadata": {
    "collapsed": true
   },
   "outputs": [],
   "source": [
    "makebinary = udf(lambda x: f_makebinary(x),StringType())"
   ]
  },
  {
   "cell_type": "markdown",
   "metadata": {},
   "source": [
    "### Clean Null with Zero"
   ]
  },
  {
   "cell_type": "code",
   "execution_count": 24,
   "metadata": {
    "collapsed": true
   },
   "outputs": [],
   "source": [
    "def f_cleanNullwithZero(item):\n",
    "    if item == None:\n",
    "        new = '0'\n",
    "        return new\n",
    "    else:\n",
    "        return item"
   ]
  },
  {
   "cell_type": "code",
   "execution_count": 25,
   "metadata": {
    "collapsed": true
   },
   "outputs": [],
   "source": [
    "cleanNullwithZero = udf(lambda x:f_cleanNullwithZero(x),StringType())"
   ]
  },
  {
   "cell_type": "markdown",
   "metadata": {},
   "source": [
    "### Make Dollar"
   ]
  },
  {
   "cell_type": "code",
   "execution_count": 26,
   "metadata": {
    "collapsed": true
   },
   "outputs": [],
   "source": [
    "def f_makedollar(revenue):\n",
    "    if revenue == None:\n",
    "        return 0\n",
    "    else:\n",
    "        return revenue/1000000"
   ]
  },
  {
   "cell_type": "code",
   "execution_count": 27,
   "metadata": {
    "collapsed": true
   },
   "outputs": [],
   "source": [
    "makedollar = udf(lambda x: f_makedollar(x),FloatType())"
   ]
  },
  {
   "cell_type": "code",
   "execution_count": null,
   "metadata": {
    "collapsed": true
   },
   "outputs": [],
   "source": []
  },
  {
   "cell_type": "code",
   "execution_count": 28,
   "metadata": {
    "collapsed": true
   },
   "outputs": [],
   "source": [
    "from pyspark.sql.functions import col"
   ]
  },
  {
   "cell_type": "code",
   "execution_count": 29,
   "metadata": {
    "collapsed": true
   },
   "outputs": [],
   "source": [
    "crunched_df = filtered_raw_df.\\\n",
    "withColumn('hitHour',col('hitHour').cast(FloatType())).\\\n",
    "withColumn('hitMin',col('hitMin').cast(FloatType())).\\\n",
    "withColumn('hitNumber',col('hitNumber').cast(FloatType())).\\\n",
    "withColumn('timeMicroSec',col('timeMicroSec').cast(FloatType())).\\\n",
    "withColumn('timeOnSite',col('timeOnSite').cast(FloatType())).\\\n",
    "withColumn('totalTransactionRevenue',cleanNullwithZero(col('totalTransactionRevenue')).cast(FloatType())).\\\n",
    "withColumn('newVisits',makebinary(col('newVisits'))).\\\n",
    "withColumn('sourceKeyword',removenull(col('sourceKeyword'))).\\\n",
    "withColumn('isVideoAd',makebinary(col('isVideoAd'))).\\\n",
    "withColumn('hitReferer',removenull(col('hitReferer'))).\\\n",
    "withColumn('isClick',makebinary(col('isClick'))).\\\n",
    "withColumn('isImpression',makebinary(col('isImpression'))).\\\n",
    "withColumn('sessionQualityDim',removenull(col('sessionQualityDim'))).\\\n",
    "withColumn('timeOnSite',removenull(col('timeOnSite'))).\\\n",
    "withColumn('totalTransactionRevenue',makedollar(col('totalTransactionRevenue'))).\\\n",
    "withColumn('isTrueDirect',makebinary(col('isTrueDirect')))"
   ]
  },
  {
   "cell_type": "markdown",
   "metadata": {},
   "source": [
    "### Data Enhancement: Summary within Partition"
   ]
  },
  {
   "cell_type": "code",
   "execution_count": 30,
   "metadata": {
    "collapsed": true
   },
   "outputs": [],
   "source": [
    "from pyspark.sql.functions import col, udf, sum\n",
    "from pyspark.sql.types import *\n",
    "from pyspark.sql import Row\n",
    "from pyspark.sql.window import Window"
   ]
  },
  {
   "cell_type": "code",
   "execution_count": 31,
   "metadata": {},
   "outputs": [
    {
     "data": {
      "text/plain": [
       "DataFrame[source: string, isTrueDirect: string, sourceKeyword: string, medium: string, isVideoAd: string, fullVisitorId: string, visitId: string, date: string, newVisits: string, hitReferer: string, hitType: string, hitAction_type: string, hitNumber: float, hitHour: float, hitMin: float, timeMicroSec: float, v2ProductName: string, productListName: string, isClick: string, isImpression: string, sessionQualityDim: string, timeOnSite: string, totalTransactionRevenue: float]"
      ]
     },
     "execution_count": 31,
     "metadata": {},
     "output_type": "execute_result"
    }
   ],
   "source": [
    "crunched_df"
   ]
  },
  {
   "cell_type": "code",
   "execution_count": 32,
   "metadata": {},
   "outputs": [
    {
     "data": {
      "text/plain": [
       "['source',\n",
       " 'isTrueDirect',\n",
       " 'sourceKeyword',\n",
       " 'medium',\n",
       " 'isVideoAd',\n",
       " 'fullVisitorId',\n",
       " 'visitId',\n",
       " 'date',\n",
       " 'newVisits',\n",
       " 'hitReferer',\n",
       " 'hitType',\n",
       " 'hitAction_type',\n",
       " 'hitNumber',\n",
       " 'hitHour',\n",
       " 'hitMin',\n",
       " 'timeMicroSec',\n",
       " 'v2ProductName',\n",
       " 'productListName',\n",
       " 'isClick',\n",
       " 'isImpression',\n",
       " 'sessionQualityDim',\n",
       " 'timeOnSite',\n",
       " 'totalTransactionRevenue']"
      ]
     },
     "execution_count": 32,
     "metadata": {},
     "output_type": "execute_result"
    }
   ],
   "source": [
    "crunched_df.columns"
   ]
  },
  {
   "cell_type": "code",
   "execution_count": 33,
   "metadata": {
    "collapsed": true
   },
   "outputs": [],
   "source": [
    "import sys"
   ]
  },
  {
   "cell_type": "code",
   "execution_count": 34,
   "metadata": {
    "collapsed": true
   },
   "outputs": [],
   "source": [
    "from pyspark.sql.types import *"
   ]
  },
  {
   "cell_type": "code",
   "execution_count": 35,
   "metadata": {
    "collapsed": true
   },
   "outputs": [],
   "source": [
    "from pyspark.sql.functions import *"
   ]
  },
  {
   "cell_type": "code",
   "execution_count": 36,
   "metadata": {
    "collapsed": true
   },
   "outputs": [],
   "source": [
    "w = Window()\\\n",
    "   .partitionBy('fullVisitorId','visitId')\\\n",
    "   .orderBy(col(\"hitNumber\").cast(\"long\"))"
   ]
  },
  {
   "cell_type": "code",
   "execution_count": 37,
   "metadata": {
    "collapsed": true
   },
   "outputs": [],
   "source": [
    "windowSpec = Window\\\n",
    ".partitionBy('fullVisitorId','visitId')\\\n",
    ".orderBy(col(\"hitNumber\").cast(\"long\"))\\\n",
    ".rangeBetween(-sys.maxsize, sys.maxsize)"
   ]
  },
  {
   "cell_type": "code",
   "execution_count": 38,
   "metadata": {
    "collapsed": true
   },
   "outputs": [],
   "source": [
    "from pyspark.sql import functions as func"
   ]
  },
  {
   "cell_type": "markdown",
   "metadata": {
    "collapsed": true
   },
   "source": [
    "Diff_hitNumber = func.max(col('hitNumber').cast(IntegerType())).over(windowSpec) - func.min(col('hitNumber').cast(IntegerType())).over(windowSpec)"
   ]
  },
  {
   "cell_type": "markdown",
   "metadata": {
    "collapsed": true
   },
   "source": [
    "Diff_timeMicroSec = func.max(col('timeMicroSec').cast(IntegerType())).over(windowSpec) - func.min(col('timeMicroSec').cast(IntegerType())).over(windowSpec)"
   ]
  },
  {
   "cell_type": "markdown",
   "metadata": {
    "collapsed": true
   },
   "source": [
    "Diff_hitHour = func.max(col('hitHour').cast(IntegerType())).over(windowSpec) - func.min(col('hitHour').cast(IntegerType())).over(windowSpec)"
   ]
  },
  {
   "cell_type": "markdown",
   "metadata": {
    "collapsed": true
   },
   "source": [
    "Diff_hitMin = func.max(col('hitMin').cast(IntegerType())).over(windowSpec) - func.min(col('hitMin').cast(IntegerType())).over(windowSpec)"
   ]
  },
  {
   "cell_type": "markdown",
   "metadata": {
    "collapsed": true
   },
   "source": [
    "first_hitNumber = func.first(col('hitNumber').cast(IntegerType())).over(windowSpec)"
   ]
  },
  {
   "cell_type": "markdown",
   "metadata": {
    "collapsed": true
   },
   "source": [
    "last_hitNumber = func.last(col('hitNumber').cast(IntegerType())).over(windowSpec)"
   ]
  },
  {
   "cell_type": "markdown",
   "metadata": {
    "collapsed": true
   },
   "source": [
    "first_Action_type = func.first(col('hitAction_type').cast(StringType())).over(windowSpec)"
   ]
  },
  {
   "cell_type": "code",
   "execution_count": 39,
   "metadata": {
    "collapsed": true
   },
   "outputs": [],
   "source": [
    "last_Action_type = func.last(col('hitAction_type').cast(StringType())).over(windowSpec)"
   ]
  },
  {
   "cell_type": "code",
   "execution_count": 40,
   "metadata": {
    "collapsed": true
   },
   "outputs": [],
   "source": [
    "from pyspark.sql.functions import to_timestamp"
   ]
  },
  {
   "cell_type": "code",
   "execution_count": 41,
   "metadata": {
    "collapsed": true
   },
   "outputs": [],
   "source": [
    "####Rev01"
   ]
  },
  {
   "cell_type": "code",
   "execution_count": 42,
   "metadata": {},
   "outputs": [
    {
     "name": "stdout",
     "output_type": "stream",
     "text": [
      "root\n",
      " |-- source: string (nullable = true)\n",
      " |-- isTrueDirect: string (nullable = true)\n",
      " |-- sourceKeyword: string (nullable = true)\n",
      " |-- medium: string (nullable = true)\n",
      " |-- isVideoAd: string (nullable = true)\n",
      " |-- fullVisitorId: string (nullable = true)\n",
      " |-- visitId: string (nullable = true)\n",
      " |-- date: string (nullable = true)\n",
      " |-- newVisits: string (nullable = true)\n",
      " |-- hitReferer: string (nullable = true)\n",
      " |-- hitType: string (nullable = true)\n",
      " |-- hitAction_type: string (nullable = true)\n",
      " |-- hitNumber: float (nullable = true)\n",
      " |-- hitHour: float (nullable = true)\n",
      " |-- hitMin: float (nullable = true)\n",
      " |-- timeMicroSec: float (nullable = true)\n",
      " |-- v2ProductName: string (nullable = true)\n",
      " |-- productListName: string (nullable = true)\n",
      " |-- isClick: string (nullable = true)\n",
      " |-- isImpression: string (nullable = true)\n",
      " |-- sessionQualityDim: string (nullable = true)\n",
      " |-- timeOnSite: string (nullable = true)\n",
      " |-- totalTransactionRevenue: float (nullable = true)\n",
      "\n"
     ]
    }
   ],
   "source": [
    "crunched_df.printSchema()"
   ]
  },
  {
   "cell_type": "code",
   "execution_count": 43,
   "metadata": {},
   "outputs": [
    {
     "data": {
      "text/html": [
       "<div>\n",
       "<style>\n",
       "    .dataframe thead tr:only-child th {\n",
       "        text-align: right;\n",
       "    }\n",
       "\n",
       "    .dataframe thead th {\n",
       "        text-align: left;\n",
       "    }\n",
       "\n",
       "    .dataframe tbody tr th {\n",
       "        vertical-align: top;\n",
       "    }\n",
       "</style>\n",
       "<table border=\"1\" class=\"dataframe\">\n",
       "  <thead>\n",
       "    <tr style=\"text-align: right;\">\n",
       "      <th></th>\n",
       "      <th>0</th>\n",
       "      <th>1</th>\n",
       "      <th>2</th>\n",
       "      <th>3</th>\n",
       "      <th>4</th>\n",
       "    </tr>\n",
       "  </thead>\n",
       "  <tbody>\n",
       "    <tr>\n",
       "      <th>source</th>\n",
       "      <td>google</td>\n",
       "      <td>(direct)</td>\n",
       "      <td>(direct)</td>\n",
       "      <td>google</td>\n",
       "      <td>(direct)</td>\n",
       "    </tr>\n",
       "    <tr>\n",
       "      <th>isTrueDirect</th>\n",
       "      <td>FALSE</td>\n",
       "      <td>FALSE</td>\n",
       "      <td>FALSE</td>\n",
       "      <td>FALSE</td>\n",
       "      <td>TRUE</td>\n",
       "    </tr>\n",
       "    <tr>\n",
       "      <th>sourceKeyword</th>\n",
       "      <td>(not provided)</td>\n",
       "      <td>NULL</td>\n",
       "      <td>NULL</td>\n",
       "      <td>(not provided)</td>\n",
       "      <td>NULL</td>\n",
       "    </tr>\n",
       "    <tr>\n",
       "      <th>medium</th>\n",
       "      <td>organic</td>\n",
       "      <td>(none)</td>\n",
       "      <td>(none)</td>\n",
       "      <td>organic</td>\n",
       "      <td>(none)</td>\n",
       "    </tr>\n",
       "    <tr>\n",
       "      <th>isVideoAd</th>\n",
       "      <td>FALSE</td>\n",
       "      <td>FALSE</td>\n",
       "      <td>FALSE</td>\n",
       "      <td>FALSE</td>\n",
       "      <td>FALSE</td>\n",
       "    </tr>\n",
       "    <tr>\n",
       "      <th>fullVisitorId</th>\n",
       "      <td>0310863710457874219</td>\n",
       "      <td>0391981899099102937</td>\n",
       "      <td>021724590578150399</td>\n",
       "      <td>0298562481172791183</td>\n",
       "      <td>0329044554900803813</td>\n",
       "    </tr>\n",
       "    <tr>\n",
       "      <th>visitId</th>\n",
       "      <td>1470654615</td>\n",
       "      <td>1497049262</td>\n",
       "      <td>1475173393</td>\n",
       "      <td>1490558814</td>\n",
       "      <td>1472003869</td>\n",
       "    </tr>\n",
       "    <tr>\n",
       "      <th>date</th>\n",
       "      <td>20160808</td>\n",
       "      <td>20170609</td>\n",
       "      <td>20160929</td>\n",
       "      <td>20170326</td>\n",
       "      <td>20160823</td>\n",
       "    </tr>\n",
       "    <tr>\n",
       "      <th>newVisits</th>\n",
       "      <td>TRUE</td>\n",
       "      <td>TRUE</td>\n",
       "      <td>TRUE</td>\n",
       "      <td>TRUE</td>\n",
       "      <td>TRUE</td>\n",
       "    </tr>\n",
       "    <tr>\n",
       "      <th>hitReferer</th>\n",
       "      <td>https://www.google.co.jp/</td>\n",
       "      <td>NULL</td>\n",
       "      <td>NULL</td>\n",
       "      <td>https://www.google.com/</td>\n",
       "      <td>NULL</td>\n",
       "    </tr>\n",
       "    <tr>\n",
       "      <th>hitType</th>\n",
       "      <td>PAGE</td>\n",
       "      <td>PAGE</td>\n",
       "      <td>EVENT</td>\n",
       "      <td>PAGE</td>\n",
       "      <td>EVENT</td>\n",
       "    </tr>\n",
       "    <tr>\n",
       "      <th>hitAction_type</th>\n",
       "      <td>0</td>\n",
       "      <td>0</td>\n",
       "      <td>1</td>\n",
       "      <td>0</td>\n",
       "      <td>1</td>\n",
       "    </tr>\n",
       "    <tr>\n",
       "      <th>hitNumber</th>\n",
       "      <td>1</td>\n",
       "      <td>4</td>\n",
       "      <td>4</td>\n",
       "      <td>1</td>\n",
       "      <td>4</td>\n",
       "    </tr>\n",
       "    <tr>\n",
       "      <th>hitHour</th>\n",
       "      <td>4</td>\n",
       "      <td>16</td>\n",
       "      <td>11</td>\n",
       "      <td>13</td>\n",
       "      <td>18</td>\n",
       "    </tr>\n",
       "    <tr>\n",
       "      <th>hitMin</th>\n",
       "      <td>10</td>\n",
       "      <td>1</td>\n",
       "      <td>24</td>\n",
       "      <td>6</td>\n",
       "      <td>58</td>\n",
       "    </tr>\n",
       "    <tr>\n",
       "      <th>timeMicroSec</th>\n",
       "      <td>0</td>\n",
       "      <td>49809</td>\n",
       "      <td>53064</td>\n",
       "      <td>0</td>\n",
       "      <td>8226</td>\n",
       "    </tr>\n",
       "    <tr>\n",
       "      <th>v2ProductName</th>\n",
       "      <td>Android Men's Short Sleeve Tri-blend Hero Tee ...</td>\n",
       "      <td>Keyboard DOT Sticker</td>\n",
       "      <td>Google Baby Essentials Set</td>\n",
       "      <td>Google Accent Insulated Stainless Steel Bottle</td>\n",
       "      <td>Google Laptop and Cell Phone Stickers</td>\n",
       "    </tr>\n",
       "    <tr>\n",
       "      <th>productListName</th>\n",
       "      <td>Category</td>\n",
       "      <td>Category</td>\n",
       "      <td>Category</td>\n",
       "      <td>Category</td>\n",
       "      <td>Category</td>\n",
       "    </tr>\n",
       "    <tr>\n",
       "      <th>isClick</th>\n",
       "      <td>FALSE</td>\n",
       "      <td>FALSE</td>\n",
       "      <td>TRUE</td>\n",
       "      <td>FALSE</td>\n",
       "      <td>TRUE</td>\n",
       "    </tr>\n",
       "    <tr>\n",
       "      <th>isImpression</th>\n",
       "      <td>TRUE</td>\n",
       "      <td>TRUE</td>\n",
       "      <td>FALSE</td>\n",
       "      <td>TRUE</td>\n",
       "      <td>FALSE</td>\n",
       "    </tr>\n",
       "    <tr>\n",
       "      <th>sessionQualityDim</th>\n",
       "      <td>NULL</td>\n",
       "      <td>NULL</td>\n",
       "      <td>NULL</td>\n",
       "      <td>NULL</td>\n",
       "      <td>NULL</td>\n",
       "    </tr>\n",
       "    <tr>\n",
       "      <th>timeOnSite</th>\n",
       "      <td>NULL</td>\n",
       "      <td>50.0</td>\n",
       "      <td>510.0</td>\n",
       "      <td>NULL</td>\n",
       "      <td>2020.0</td>\n",
       "    </tr>\n",
       "    <tr>\n",
       "      <th>totalTransactionRevenue</th>\n",
       "      <td>0</td>\n",
       "      <td>0</td>\n",
       "      <td>34.99</td>\n",
       "      <td>0</td>\n",
       "      <td>0</td>\n",
       "    </tr>\n",
       "  </tbody>\n",
       "</table>\n",
       "</div>"
      ],
      "text/plain": [
       "                                                                         0  \\\n",
       "source                                                              google   \n",
       "isTrueDirect                                                         FALSE   \n",
       "sourceKeyword                                               (not provided)   \n",
       "medium                                                             organic   \n",
       "isVideoAd                                                            FALSE   \n",
       "fullVisitorId                                          0310863710457874219   \n",
       "visitId                                                         1470654615   \n",
       "date                                                              20160808   \n",
       "newVisits                                                             TRUE   \n",
       "hitReferer                                       https://www.google.co.jp/   \n",
       "hitType                                                               PAGE   \n",
       "hitAction_type                                                           0   \n",
       "hitNumber                                                                1   \n",
       "hitHour                                                                  4   \n",
       "hitMin                                                                  10   \n",
       "timeMicroSec                                                             0   \n",
       "v2ProductName            Android Men's Short Sleeve Tri-blend Hero Tee ...   \n",
       "productListName                                                   Category   \n",
       "isClick                                                              FALSE   \n",
       "isImpression                                                          TRUE   \n",
       "sessionQualityDim                                                     NULL   \n",
       "timeOnSite                                                            NULL   \n",
       "totalTransactionRevenue                                                  0   \n",
       "\n",
       "                                            1                           2  \\\n",
       "source                               (direct)                    (direct)   \n",
       "isTrueDirect                            FALSE                       FALSE   \n",
       "sourceKeyword                            NULL                        NULL   \n",
       "medium                                 (none)                      (none)   \n",
       "isVideoAd                               FALSE                       FALSE   \n",
       "fullVisitorId             0391981899099102937          021724590578150399   \n",
       "visitId                            1497049262                  1475173393   \n",
       "date                                 20170609                    20160929   \n",
       "newVisits                                TRUE                        TRUE   \n",
       "hitReferer                               NULL                        NULL   \n",
       "hitType                                  PAGE                       EVENT   \n",
       "hitAction_type                              0                           1   \n",
       "hitNumber                                   4                           4   \n",
       "hitHour                                    16                          11   \n",
       "hitMin                                      1                          24   \n",
       "timeMicroSec                            49809                       53064   \n",
       "v2ProductName            Keyboard DOT Sticker  Google Baby Essentials Set   \n",
       "productListName                      Category                    Category   \n",
       "isClick                                 FALSE                        TRUE   \n",
       "isImpression                             TRUE                       FALSE   \n",
       "sessionQualityDim                        NULL                        NULL   \n",
       "timeOnSite                               50.0                       510.0   \n",
       "totalTransactionRevenue                     0                       34.99   \n",
       "\n",
       "                                                                      3  \\\n",
       "source                                                           google   \n",
       "isTrueDirect                                                      FALSE   \n",
       "sourceKeyword                                            (not provided)   \n",
       "medium                                                          organic   \n",
       "isVideoAd                                                         FALSE   \n",
       "fullVisitorId                                       0298562481172791183   \n",
       "visitId                                                      1490558814   \n",
       "date                                                           20170326   \n",
       "newVisits                                                          TRUE   \n",
       "hitReferer                                      https://www.google.com/   \n",
       "hitType                                                            PAGE   \n",
       "hitAction_type                                                        0   \n",
       "hitNumber                                                             1   \n",
       "hitHour                                                              13   \n",
       "hitMin                                                                6   \n",
       "timeMicroSec                                                          0   \n",
       "v2ProductName            Google Accent Insulated Stainless Steel Bottle   \n",
       "productListName                                                Category   \n",
       "isClick                                                           FALSE   \n",
       "isImpression                                                       TRUE   \n",
       "sessionQualityDim                                                  NULL   \n",
       "timeOnSite                                                         NULL   \n",
       "totalTransactionRevenue                                               0   \n",
       "\n",
       "                                                             4  \n",
       "source                                                (direct)  \n",
       "isTrueDirect                                              TRUE  \n",
       "sourceKeyword                                             NULL  \n",
       "medium                                                  (none)  \n",
       "isVideoAd                                                FALSE  \n",
       "fullVisitorId                              0329044554900803813  \n",
       "visitId                                             1472003869  \n",
       "date                                                  20160823  \n",
       "newVisits                                                 TRUE  \n",
       "hitReferer                                                NULL  \n",
       "hitType                                                  EVENT  \n",
       "hitAction_type                                               1  \n",
       "hitNumber                                                    4  \n",
       "hitHour                                                     18  \n",
       "hitMin                                                      58  \n",
       "timeMicroSec                                              8226  \n",
       "v2ProductName            Google Laptop and Cell Phone Stickers  \n",
       "productListName                                       Category  \n",
       "isClick                                                   TRUE  \n",
       "isImpression                                             FALSE  \n",
       "sessionQualityDim                                         NULL  \n",
       "timeOnSite                                              2020.0  \n",
       "totalTransactionRevenue                                      0  "
      ]
     },
     "execution_count": 43,
     "metadata": {},
     "output_type": "execute_result"
    }
   ],
   "source": [
    "crunched_df.limit(5).toPandas().transpose()"
   ]
  },
  {
   "cell_type": "code",
   "execution_count": 44,
   "metadata": {},
   "outputs": [
    {
     "name": "stdout",
     "output_type": "stream",
     "text": [
      "+--------------------+-------+\n",
      "|          hitReferer|  count|\n",
      "+--------------------+-------+\n",
      "|                NULL|9911965|\n",
      "|https://www.googl...| 465623|\n",
      "|https://www.googl...|  88065|\n",
      "|https://www.googl...|  87350|\n",
      "|https://www.youtu...|  86079|\n",
      "|https://www.googl...|  49591|\n",
      "|https://www.googl...|  36786|\n",
      "|https://www.googl...|  33225|\n",
      "|http://www.google...|  30998|\n",
      "|https://www.googl...|  23311|\n",
      "|https://www.googl...|  18870|\n",
      "|https://www.googl...|  16796|\n",
      "|https://www.googl...|  15754|\n",
      "|https://www.googl...|  11661|\n",
      "|https://www.googl...|  11440|\n",
      "|https://www.googl...|  11426|\n",
      "|https://www.googl...|  11077|\n",
      "|https://www.googl...|  10332|\n",
      "|https://www.googl...|   9643|\n",
      "|https://www.googl...|   9469|\n",
      "+--------------------+-------+\n",
      "only showing top 20 rows\n",
      "\n"
     ]
    }
   ],
   "source": [
    "crunched_df.groupBy('hitReferer').count()\\\n",
    ".orderBy('count',ascending=False).show()"
   ]
  },
  {
   "cell_type": "code",
   "execution_count": 45,
   "metadata": {},
   "outputs": [
    {
     "name": "stdout",
     "output_type": "stream",
     "text": [
      "+---------+--------+\n",
      "|isVideoAd|   count|\n",
      "+---------+--------+\n",
      "|    FALSE|10956461|\n",
      "|     NULL|  418518|\n",
      "+---------+--------+\n",
      "\n"
     ]
    }
   ],
   "source": [
    "crunched_df.groupBy('isVideoAd').count()\\\n",
    ".orderBy('count',ascending=False).show()"
   ]
  },
  {
   "cell_type": "code",
   "execution_count": 46,
   "metadata": {},
   "outputs": [
    {
     "name": "stdout",
     "output_type": "stream",
     "text": [
      "+--------------------+-------+\n",
      "|       sourceKeyword|  count|\n",
      "+--------------------+-------+\n",
      "|                NULL|7348785|\n",
      "|      (not provided)|3702227|\n",
      "|    6qEhsCssdK0z36ri| 146221|\n",
      "|  Google Merchandise|  33457|\n",
      "|google merchandis...|  30642|\n",
      "|    1hZbAqLCbjwfgOH7|  20093|\n",
      "|(Remarketing/Cont...|  12684|\n",
      "|+Google +Merchandise|   4402|\n",
      "|+google +merchand...|   3833|\n",
      "|             youtube|   3796|\n",
      "|        google store|   3491|\n",
      "|    1X4Me6ZKNV0zg-jV|   3279|\n",
      "|        google merch|   3077|\n",
      "|  google merchandise|   2636|\n",
      "|https://www.googl...|   1563|\n",
      "|      +google +store|   1543|\n",
      "|    category_l1==166|   1523|\n",
      "|             Youtube|   1038|\n",
      "|       youtube merch|   1005|\n",
      "|      category_l1==*|    971|\n",
      "+--------------------+-------+\n",
      "only showing top 20 rows\n",
      "\n"
     ]
    }
   ],
   "source": [
    "crunched_df.groupBy('sourceKeyword').count()\\\n",
    ".orderBy('count',ascending=False).show()"
   ]
  },
  {
   "cell_type": "code",
   "execution_count": 47,
   "metadata": {
    "collapsed": true
   },
   "outputs": [],
   "source": [
    "remove_list = ['isVideoAd','fullVisitorId',\\\n",
    "               'visitId','date','sessionQualityDim','totalTransactionRevenue']"
   ]
  },
  {
   "cell_type": "code",
   "execution_count": null,
   "metadata": {
    "collapsed": true
   },
   "outputs": [],
   "source": []
  },
  {
   "cell_type": "code",
   "execution_count": 48,
   "metadata": {},
   "outputs": [
    {
     "data": {
      "text/plain": [
       "11374979"
      ]
     },
     "execution_count": 48,
     "metadata": {},
     "output_type": "execute_result"
    }
   ],
   "source": [
    "crunched_df.count()"
   ]
  },
  {
   "cell_type": "code",
   "execution_count": 49,
   "metadata": {
    "collapsed": true
   },
   "outputs": [],
   "source": [
    "partitionCal_df = crunched_df\\\n",
    ".withColumn('last_Action_type', last_Action_type)\\\n",
    ".withColumn('last_Action_type',col('last_Action_type').cast(FloatType()))\\\n",
    ".withColumn('timeOnSite',col('timeOnSite').cast(FloatType()))\\\n",
    ".dropna()"
   ]
  },
  {
   "cell_type": "code",
   "execution_count": 50,
   "metadata": {},
   "outputs": [
    {
     "data": {
      "text/plain": [
       "10541048"
      ]
     },
     "execution_count": 50,
     "metadata": {},
     "output_type": "execute_result"
    }
   ],
   "source": [
    "partitionCal_df.count()"
   ]
  },
  {
   "cell_type": "code",
   "execution_count": null,
   "metadata": {
    "collapsed": true
   },
   "outputs": [],
   "source": []
  },
  {
   "cell_type": "markdown",
   "metadata": {
    "collapsed": true
   },
   "source": [
    "partitionCal_df = crunched_df\\\n",
    ".withColumn('first_hitNumber', first_hitNumber)\\\n",
    ".withColumn('last_hitNumber', last_hitNumber)\\\n",
    ".withColumn('Diff_hitNumber', Diff_hitNumber)\\\n",
    ".withColumn('Diff_timeMicroSec', Diff_timeMicroSec)\\\n",
    ".withColumn('Diff_hitHour', Diff_hitHour)\\\n",
    ".withColumn('Diff_hitMin', Diff_hitMin)\\\n",
    ".withColumn('first_Action_type', first_Action_type)\\\n",
    ".withColumn('last_Action_type', last_Action_type)\\\n",
    ".withColumn('last_Action_type',col('last_Action_type').cast(FloatType()))\\\n",
    ".dropna()"
   ]
  },
  {
   "cell_type": "code",
   "execution_count": 51,
   "metadata": {},
   "outputs": [
    {
     "name": "stdout",
     "output_type": "stream",
     "text": [
      "root\n",
      " |-- source: string (nullable = true)\n",
      " |-- isTrueDirect: string (nullable = true)\n",
      " |-- sourceKeyword: string (nullable = true)\n",
      " |-- medium: string (nullable = true)\n",
      " |-- isVideoAd: string (nullable = true)\n",
      " |-- fullVisitorId: string (nullable = true)\n",
      " |-- visitId: string (nullable = true)\n",
      " |-- date: string (nullable = true)\n",
      " |-- newVisits: string (nullable = true)\n",
      " |-- hitReferer: string (nullable = true)\n",
      " |-- hitType: string (nullable = true)\n",
      " |-- hitAction_type: string (nullable = true)\n",
      " |-- hitNumber: float (nullable = true)\n",
      " |-- hitHour: float (nullable = true)\n",
      " |-- hitMin: float (nullable = true)\n",
      " |-- timeMicroSec: float (nullable = true)\n",
      " |-- v2ProductName: string (nullable = true)\n",
      " |-- productListName: string (nullable = true)\n",
      " |-- isClick: string (nullable = true)\n",
      " |-- isImpression: string (nullable = true)\n",
      " |-- sessionQualityDim: string (nullable = true)\n",
      " |-- timeOnSite: float (nullable = true)\n",
      " |-- totalTransactionRevenue: float (nullable = true)\n",
      " |-- last_Action_type: float (nullable = true)\n",
      "\n"
     ]
    }
   ],
   "source": [
    "partitionCal_df.printSchema()"
   ]
  },
  {
   "cell_type": "code",
   "execution_count": 52,
   "metadata": {},
   "outputs": [
    {
     "name": "stdout",
     "output_type": "stream",
     "text": [
      "+-------------------+----------+----------------+\n",
      "|      fullVisitorId|   visitId|last_Action_type|\n",
      "+-------------------+----------+----------------+\n",
      "|0191382203292370318|1489439273|             6.0|\n",
      "|0259650808338553210|1497291026|             6.0|\n",
      "|0324564641241038377|1494858999|             6.0|\n",
      "|0327221397987539071|1477444430|             6.0|\n",
      "|0348759248625736228|1489990929|             6.0|\n",
      "|0596169222611729599|1486248782|             6.0|\n",
      "|0691969555315832538|1470491570|             6.0|\n",
      "|0789927106089725270|1481332629|             6.0|\n",
      "|1076409378746585633|1498163781|             6.0|\n",
      "|1091802616723319272|1491507642|             6.0|\n",
      "|1152867987950849273|1494873477|             6.0|\n",
      "|1383687428379664179|1499966198|             6.0|\n",
      "|1514746421372852688|1481564234|             6.0|\n",
      "|1542973893665520458|1477057257|             6.0|\n",
      "|1713847086511016991|1499273274|             6.0|\n",
      "|1773585151550770060|1481397709|             6.0|\n",
      "|1999795518481333408|1473281659|             6.0|\n",
      "|2324511444137196326|1472681213|             6.0|\n",
      "|2528551022767237058|1482089623|             6.0|\n",
      "| 279642541136862187|1475003062|             6.0|\n",
      "+-------------------+----------+----------------+\n",
      "only showing top 20 rows\n",
      "\n"
     ]
    }
   ],
   "source": [
    "partitionCal_df.select(['fullVisitorId','visitId','last_Action_type']).filter(col('last_Action_type') == 6)\\\n",
    ".distinct().show()"
   ]
  },
  {
   "cell_type": "code",
   "execution_count": 53,
   "metadata": {},
   "outputs": [
    {
     "name": "stdout",
     "output_type": "stream",
     "text": [
      "+---------+----------+--------------+----------------+\n",
      "|hitNumber|timeOnSite|hitAction_type|last_Action_type|\n",
      "+---------+----------+--------------+----------------+\n",
      "|     19.0|    3278.0|             6|             6.0|\n",
      "|     19.0|    3278.0|             6|             6.0|\n",
      "|     19.0|    3278.0|             6|             6.0|\n",
      "|     19.0|    3278.0|             6|             6.0|\n",
      "|     19.0|    3278.0|             6|             6.0|\n",
      "|     18.0|    3278.0|             6|             6.0|\n",
      "|     18.0|    3278.0|             6|             6.0|\n",
      "|     18.0|    3278.0|             6|             6.0|\n",
      "|     18.0|    3278.0|             6|             6.0|\n",
      "|     18.0|    3278.0|             6|             6.0|\n",
      "|     17.0|    3278.0|             5|             6.0|\n",
      "|     17.0|    3278.0|             5|             6.0|\n",
      "|     17.0|    3278.0|             5|             6.0|\n",
      "|     17.0|    3278.0|             5|             6.0|\n",
      "|     17.0|    3278.0|             5|             6.0|\n",
      "|     16.0|    3278.0|             5|             6.0|\n",
      "|     16.0|    3278.0|             5|             6.0|\n",
      "|     16.0|    3278.0|             5|             6.0|\n",
      "|     16.0|    3278.0|             5|             6.0|\n",
      "|     16.0|    3278.0|             5|             6.0|\n",
      "|     15.0|    3278.0|             5|             6.0|\n",
      "|     15.0|    3278.0|             5|             6.0|\n",
      "|     15.0|    3278.0|             5|             6.0|\n",
      "|     15.0|    3278.0|             5|             6.0|\n",
      "|     15.0|    3278.0|             5|             6.0|\n",
      "|      8.0|    3278.0|             3|             6.0|\n",
      "|      7.0|    3278.0|             0|             6.0|\n",
      "|      7.0|    3278.0|             0|             6.0|\n",
      "|      6.0|    3278.0|             1|             6.0|\n",
      "|      5.0|    3278.0|             2|             6.0|\n",
      "|      4.0|    3278.0|             1|             6.0|\n",
      "|      3.0|    3278.0|             0|             6.0|\n",
      "|      3.0|    3278.0|             0|             6.0|\n",
      "|      3.0|    3278.0|             0|             6.0|\n",
      "|      3.0|    3278.0|             0|             6.0|\n",
      "|      3.0|    3278.0|             0|             6.0|\n",
      "|      3.0|    3278.0|             0|             6.0|\n",
      "|      3.0|    3278.0|             0|             6.0|\n",
      "|      3.0|    3278.0|             0|             6.0|\n",
      "|      3.0|    3278.0|             0|             6.0|\n",
      "|      3.0|    3278.0|             0|             6.0|\n",
      "|      3.0|    3278.0|             0|             6.0|\n",
      "|      3.0|    3278.0|             0|             6.0|\n",
      "+---------+----------+--------------+----------------+\n",
      "\n"
     ]
    }
   ],
   "source": [
    "partitionCal_df.select(['hitNumber','timeOnSite','hitAction_type','last_Action_type'])\\\n",
    ".filter(col('fullVisitorId') == '1091802616723319272')\\\n",
    ".filter(col('visitId') == '1491507642').orderBy('hitNumber',ascending = False).show(1000)"
   ]
  },
  {
   "cell_type": "code",
   "execution_count": null,
   "metadata": {
    "collapsed": true
   },
   "outputs": [],
   "source": []
  },
  {
   "cell_type": "markdown",
   "metadata": {
    "collapsed": true
   },
   "source": [
    "def f_removeLastItem(list):\n",
    "    list.pop()\n",
    "    return list"
   ]
  },
  {
   "cell_type": "markdown",
   "metadata": {
    "collapsed": true
   },
   "source": [
    "removeLastItem = func.udf(lambda x:removeLastItem(x))"
   ]
  },
  {
   "cell_type": "markdown",
   "metadata": {
    "collapsed": true
   },
   "source": [
    "collectList_df = partitionCal_df.groupBy([\n",
    "'source',\n",
    " ##'isTrueDirect',\n",
    " ##'sourceKeyword',\n",
    " ##'medium',\n",
    " 'isVideoAd',\n",
    " 'fullVisitorId',\n",
    " 'visitId',\n",
    " #'date',\n",
    " ##'newVisits',\n",
    " ##'hitReferer',\n",
    " #'hitType',\n",
    " #'hitAction_type',\n",
    " #'hitNumber',\n",
    " #'hitHour',\n",
    " #'hitMin',\n",
    " #'timeMicroSec',\n",
    " #'v2ProductName',\n",
    " #'productListName',\n",
    " #'isClick',\n",
    " #'isImpression',\n",
    " ##'sessionQualityDim',\n",
    " #'timeOnSite',\n",
    " #'totalTransactionRevenue',\n",
    " 'first_hitNumber',\n",
    " 'last_hitNumber',\n",
    " 'Diff_hitNumber',\n",
    " 'Diff_timeMicroSec',\n",
    " 'Diff_hitHour',\n",
    " 'Diff_hitMin',\n",
    " 'first_Action_type',\n",
    " 'last_Action_type']).agg(func.collect_list('hitAction_type'))\\\n",
    "#.withColumn('collect_list(hitAction_type)',removeLastItem(col('collect_list(hitAction_type)')))"
   ]
  },
  {
   "cell_type": "markdown",
   "metadata": {},
   "source": [
    "##### The action type. Click through of product lists = 1, Product detail views = 2, Add product(s) to cart = 3, Remove product(s) from cart = 4, Check out = 5, Completed purchase = 6, Refund of purchase = 7, Checkout options = 8, Unknown = 0."
   ]
  },
  {
   "cell_type": "markdown",
   "metadata": {},
   "source": [
    "### Feature Selection"
   ]
  },
  {
   "cell_type": "code",
   "execution_count": 54,
   "metadata": {
    "collapsed": true
   },
   "outputs": [],
   "source": [
    "collectList_df = partitionCal_df"
   ]
  },
  {
   "cell_type": "code",
   "execution_count": 55,
   "metadata": {
    "collapsed": true
   },
   "outputs": [],
   "source": [
    "funnel_col_list = collectList_df.columns"
   ]
  },
  {
   "cell_type": "code",
   "execution_count": 56,
   "metadata": {
    "collapsed": true
   },
   "outputs": [],
   "source": [
    "for remove_item in remove_list:\n",
    "    funnel_col_list.remove(remove_item)"
   ]
  },
  {
   "cell_type": "code",
   "execution_count": 57,
   "metadata": {},
   "outputs": [
    {
     "data": {
      "text/plain": [
       "['source',\n",
       " 'isTrueDirect',\n",
       " 'sourceKeyword',\n",
       " 'medium',\n",
       " 'newVisits',\n",
       " 'hitReferer',\n",
       " 'hitType',\n",
       " 'hitAction_type',\n",
       " 'hitNumber',\n",
       " 'hitHour',\n",
       " 'hitMin',\n",
       " 'timeMicroSec',\n",
       " 'v2ProductName',\n",
       " 'productListName',\n",
       " 'isClick',\n",
       " 'isImpression',\n",
       " 'timeOnSite',\n",
       " 'last_Action_type']"
      ]
     },
     "execution_count": 57,
     "metadata": {},
     "output_type": "execute_result"
    }
   ],
   "source": [
    "funnel_col_list"
   ]
  },
  {
   "cell_type": "code",
   "execution_count": null,
   "metadata": {
    "collapsed": true
   },
   "outputs": [],
   "source": []
  },
  {
   "cell_type": "code",
   "execution_count": 58,
   "metadata": {
    "collapsed": true
   },
   "outputs": [],
   "source": [
    "raw_funnel_df = collectList_df.select(funnel_col_list)"
   ]
  },
  {
   "cell_type": "code",
   "execution_count": null,
   "metadata": {
    "collapsed": true
   },
   "outputs": [],
   "source": []
  },
  {
   "cell_type": "markdown",
   "metadata": {},
   "source": [
    "### Declare Functions for Removing Duplication and Last items in List"
   ]
  },
  {
   "cell_type": "markdown",
   "metadata": {
    "collapsed": true
   },
   "source": [
    "def f_removedupINLIST(l):\n",
    "    seen = set()\n",
    "    new_list = [x for x in l if not (x in seen or seen.add(x))]\n",
    "    new_list.pop()\n",
    "    return new_list"
   ]
  },
  {
   "cell_type": "markdown",
   "metadata": {
    "collapsed": true
   },
   "source": [
    "removedupINLIST = func.udf(lambda x: f_removedupINLIST(x))"
   ]
  },
  {
   "cell_type": "markdown",
   "metadata": {},
   "source": [
    "raw_funnel_df.columns"
   ]
  },
  {
   "cell_type": "markdown",
   "metadata": {
    "collapsed": true
   },
   "source": [
    "f_length_list = func.udf(lambda x: len(x),IntegerType())"
   ]
  },
  {
   "cell_type": "markdown",
   "metadata": {
    "collapsed": true
   },
   "source": [
    "seq_funnel_df = raw_funnel_df.withColumn('length_hitAction_type'\\\n",
    "                                         ,f_length_list(col('collect_list(hitAction_type)')))"
   ]
  },
  {
   "cell_type": "markdown",
   "metadata": {
    "collapsed": true
   },
   "source": [
    "seq_funnel_df = raw_funnel_df.withColumn('seq_hitAction_type',removedupINLIST(col('collect_list(hitAction_type)')))\\\n",
    ".withColumn('length_hitAction_type',f_length_list(col('collect_list(hitAction_type)')))"
   ]
  },
  {
   "cell_type": "code",
   "execution_count": 59,
   "metadata": {
    "collapsed": true
   },
   "outputs": [],
   "source": [
    "seq_funnel_df = raw_funnel_df"
   ]
  },
  {
   "cell_type": "code",
   "execution_count": 60,
   "metadata": {},
   "outputs": [
    {
     "data": {
      "text/plain": [
       "['source',\n",
       " 'isTrueDirect',\n",
       " 'sourceKeyword',\n",
       " 'medium',\n",
       " 'newVisits',\n",
       " 'hitReferer',\n",
       " 'hitType',\n",
       " 'hitAction_type',\n",
       " 'hitNumber',\n",
       " 'hitHour',\n",
       " 'hitMin',\n",
       " 'timeMicroSec',\n",
       " 'v2ProductName',\n",
       " 'productListName',\n",
       " 'isClick',\n",
       " 'isImpression',\n",
       " 'timeOnSite',\n",
       " 'last_Action_type']"
      ]
     },
     "execution_count": 60,
     "metadata": {},
     "output_type": "execute_result"
    }
   ],
   "source": [
    "seq_funnel_df.columns"
   ]
  },
  {
   "cell_type": "code",
   "execution_count": 61,
   "metadata": {},
   "outputs": [
    {
     "data": {
      "text/plain": [
       "DataFrame[source: string, isTrueDirect: string, sourceKeyword: string, medium: string, newVisits: string, hitReferer: string, hitType: string, hitAction_type: string, hitNumber: float, hitHour: float, hitMin: float, timeMicroSec: float, v2ProductName: string, productListName: string, isClick: string, isImpression: string, timeOnSite: float, last_Action_type: float]"
      ]
     },
     "execution_count": 61,
     "metadata": {},
     "output_type": "execute_result"
    }
   ],
   "source": [
    "seq_funnel_df"
   ]
  },
  {
   "cell_type": "markdown",
   "metadata": {},
   "source": [
    "seq_funnel_df.groupBy('length_hitAction_type','last_Action_type').count()\\\n",
    ".orderBy(col('last_Action_type').desc(),col('length_hitAction_type').asc()).show()"
   ]
  },
  {
   "cell_type": "markdown",
   "metadata": {},
   "source": [
    "##### The action type. Click through of product lists = 1, Product detail views = 2, Add product(s) to cart = 3, Remove product(s) from cart = 4, Check out = 5, Completed purchase = 6, Refund of purchase = 7, Checkout options = 8, Unknown = 0."
   ]
  },
  {
   "cell_type": "code",
   "execution_count": 62,
   "metadata": {},
   "outputs": [
    {
     "name": "stdout",
     "output_type": "stream",
     "text": [
      "root\n",
      " |-- source: string (nullable = true)\n",
      " |-- isTrueDirect: string (nullable = true)\n",
      " |-- sourceKeyword: string (nullable = true)\n",
      " |-- medium: string (nullable = true)\n",
      " |-- newVisits: string (nullable = true)\n",
      " |-- hitReferer: string (nullable = true)\n",
      " |-- hitType: string (nullable = true)\n",
      " |-- hitAction_type: string (nullable = true)\n",
      " |-- hitNumber: float (nullable = true)\n",
      " |-- hitHour: float (nullable = true)\n",
      " |-- hitMin: float (nullable = true)\n",
      " |-- timeMicroSec: float (nullable = true)\n",
      " |-- v2ProductName: string (nullable = true)\n",
      " |-- productListName: string (nullable = true)\n",
      " |-- isClick: string (nullable = true)\n",
      " |-- isImpression: string (nullable = true)\n",
      " |-- timeOnSite: float (nullable = true)\n",
      " |-- last_Action_type: float (nullable = true)\n",
      "\n"
     ]
    }
   ],
   "source": [
    "seq_funnel_df.printSchema()"
   ]
  },
  {
   "cell_type": "code",
   "execution_count": 63,
   "metadata": {
    "collapsed": true
   },
   "outputs": [],
   "source": [
    "final_df = seq_funnel_df"
   ]
  },
  {
   "cell_type": "code",
   "execution_count": 64,
   "metadata": {
    "collapsed": true
   },
   "outputs": [],
   "source": [
    "#final_df.select(['fullVisitorId','visitId']).distinct().count()"
   ]
  },
  {
   "cell_type": "code",
   "execution_count": 65,
   "metadata": {
    "collapsed": true
   },
   "outputs": [],
   "source": [
    "numeric_pd = final_df\\\n",
    ".select(['hitNumber','hitHour','hitMin','timeMicroSec','timeOnSite','last_Action_type']).toPandas()"
   ]
  },
  {
   "cell_type": "code",
   "execution_count": 66,
   "metadata": {
    "collapsed": true
   },
   "outputs": [],
   "source": [
    "import pandas as pd\n",
    "import seaborn as sn\n",
    "import matplotlib.pyplot as plt"
   ]
  },
  {
   "cell_type": "code",
   "execution_count": 67,
   "metadata": {},
   "outputs": [
    {
     "name": "stderr",
     "output_type": "stream",
     "text": [
      "/root/anaconda3/lib/python3.6/site-packages/matplotlib/font_manager.py:1297: UserWarning: findfont: Font family ['sans-serif'] not found. Falling back to DejaVu Sans\n",
      "  (prop.get_family(), self.defaultFamily[fontext]))\n"
     ]
    },
    {
     "data": {
      "image/png": "[encoded data removed]",
      "text/plain": [
       "<matplotlib.figure.Figure at 0x7fccb8e98668>"
      ]
     },
     "metadata": {},
     "output_type": "display_data"
    }
   ],
   "source": [
    "corrMatrix = numeric_pd.corr()\n",
    "sn.heatmap(corrMatrix, annot=True)\n",
    "plt.show()"
   ]
  },
  {
   "cell_type": "code",
   "execution_count": 68,
   "metadata": {},
   "outputs": [
    {
     "name": "stdout",
     "output_type": "stream",
     "text": [
      "+----------------+-------+\n",
      "|last_Action_type|  count|\n",
      "+----------------+-------+\n",
      "|             5.0| 424530|\n",
      "|             2.0| 707411|\n",
      "|             3.0| 497093|\n",
      "|             6.0| 776431|\n",
      "|             1.0| 183936|\n",
      "|             4.0| 180046|\n",
      "|             0.0|7771601|\n",
      "+----------------+-------+\n",
      "\n"
     ]
    }
   ],
   "source": [
    "final_df.groupBy('last_Action_type').count().show()"
   ]
  },
  {
   "cell_type": "code",
   "execution_count": 69,
   "metadata": {
    "collapsed": true
   },
   "outputs": [],
   "source": [
    "ALL_ACTUAL_POSITIVE = final_df.filter(col('last_Action_type') == 6).count()"
   ]
  },
  {
   "cell_type": "code",
   "execution_count": 70,
   "metadata": {
    "collapsed": true
   },
   "outputs": [],
   "source": [
    "ALL_ACTUAL_NEGATIVE = final_df.filter(col('last_Action_type') == 0).count()"
   ]
  },
  {
   "cell_type": "markdown",
   "metadata": {},
   "source": [
    "# 3. Data Modeling"
   ]
  },
  {
   "cell_type": "code",
   "execution_count": 71,
   "metadata": {
    "collapsed": true
   },
   "outputs": [],
   "source": [
    "import pyspark\n",
    "from pyspark.sql import SQLContext\n",
    "from pyspark.sql.types import *\n",
    "from pyspark.ml.feature import OneHotEncoder, StringIndexer\n",
    "from pyspark.ml.feature import VectorAssembler\n",
    "from pyspark.mllib.clustering import KMeans, KMeansModel\n",
    "from pyspark.ml.feature import StringIndexer, VectorAssembler, OneHotEncoder,\\\n",
    "VectorIndexer, QuantileDiscretizer\n",
    "from pyspark.ml.tuning import ParamGridBuilder, CrossValidator\n",
    "from pyspark.ml.evaluation import MulticlassClassificationEvaluator, BinaryClassificationEvaluator\n",
    "from pyspark.ml.classification import LogisticRegression, GBTClassifier, NaiveBayes, RandomForestClassifier, DecisionTreeClassifier\n",
    "from pyspark.ml import Pipeline\n",
    "from pyspark.ml.clustering import *"
   ]
  },
  {
   "cell_type": "code",
   "execution_count": 72,
   "metadata": {
    "collapsed": true
   },
   "outputs": [],
   "source": [
    "def eval_metrics(lap):\n",
    "\n",
    "    tp = float(len(lap[(lap['last_Action_type']==6) &\\\n",
    "                       (lap['prediction']==6)]))\n",
    "    \n",
    "    fn = float(len(lap[(lap['last_Action_type']==6) &\\\n",
    "                       (lap['prediction']==0)]))\n",
    "\n",
    "    tn = float(len(lap[(lap['last_Action_type']==0) &\\\n",
    "                       (lap['prediction']==0)]))\n",
    "\n",
    "    fp = float(len(lap[(lap['last_Action_type']==0) &\\\n",
    "                       (lap['prediction']==6)]))\n",
    "\n",
    "\n",
    "    try:\n",
    "        positivepredictivevalue = tp / (tp+fp)\n",
    "        negativepredictivevalue = tn / (tn+fn)\n",
    "        sensitivity = tp / ALL_ACTUAL_POSITIVE\n",
    "        specificity = tn / ALL_ACTUAL_NEGATIVE\n",
    "        accuracy = (tp+tn) / (tp+tn+fp+fn)\n",
    "        return {'Sensitivity': sensitivity,\\\n",
    "            'Specificity': specificity}\n",
    "    except ZeroDivisionError:\n",
    "        return 0\n",
    "\n",
    "    "
   ]
  },
  {
   "cell_type": "code",
   "execution_count": 73,
   "metadata": {
    "collapsed": true
   },
   "outputs": [],
   "source": [
    "from pyspark.ml.feature import QuantileDiscretizer\n",
    "from pyspark.ml.feature import Bucketizer"
   ]
  },
  {
   "cell_type": "code",
   "execution_count": 74,
   "metadata": {
    "collapsed": true
   },
   "outputs": [],
   "source": [
    "def get_model(df,categoricalCols,continuousCols,\\\n",
    "              discretedCols,split_range,labelCol):\n",
    "\n",
    "    from pyspark.ml import Pipeline\n",
    "    from pyspark.ml.feature import StringIndexer, OneHotEncoder, VectorAssembler\n",
    "    from pyspark.sql.functions import col\n",
    "    \n",
    "    \n",
    "    ###labelIndexer = StringIndexer(inputCol=labelCol,\\\n",
    "                             ###outputCol='indexedLabel',\\\n",
    "                             ###handleInvalid='keep')\n",
    "\n",
    "    indexers = [ StringIndexer(handleInvalid='keep',\\\n",
    "                               inputCol=c, outputCol=\"{0}_indexed\".format(c))\n",
    "                 for c in categoricalCols ]\n",
    "\n",
    "    # default setting: dropLast=True\n",
    "    encoders = [ OneHotEncoder(inputCol=indexer.getOutputCol(),\n",
    "                 outputCol=\"{0}_encoded\".format(indexer.getOutputCol()))\n",
    "                 for indexer in indexers ]\n",
    "    \n",
    "    discretizers = [ Bucketizer(handleInvalid='keep', inputCol=d, outputCol=\"{0}_discretized\".format(d)\\\n",
    "                 ,splits=split_range)\n",
    "                 for d in discretedCols ]\n",
    "    \n",
    "    \n",
    "    featureCols = ['features']\n",
    "    assembler = VectorAssembler(handleInvalid='keep', inputCols=[encoder.getOutputCol() for encoder in encoders]\n",
    "                                + continuousCols +\\\n",
    "                                [discretizer.getOutputCol() for discretizer in discretizers], \\\n",
    "                                outputCol='features')\n",
    "    \n",
    "\n",
    "    ###pipeline_feature = Pipeline(stages=[labelIndexer] + indexers + encoders + discretizers + \\\n",
    "                        ###[assembler])\n",
    "    pipeline_feature = Pipeline(stages=indexers + encoders + discretizers + \\\n",
    "                        [assembler])\n",
    "    \n",
    "    \n",
    "    \n",
    "    train_df_features = pipeline_feature.fit(df).transform(df)\n",
    "    \n",
    "    layers = [\n",
    "    train_df_features.schema[\"features\"].metadata[\"ml_attr\"][\"num_attrs\"],\n",
    "    20, 10, 5, 2]\n",
    "    \n",
    "    \n",
    "    clf = LogisticRegression(labelCol=labelCol,featuresCol='features')\n",
    "    \n",
    "    \n",
    "    pipeline = Pipeline(stages=indexers + encoders + discretizers + \\\n",
    "                        [assembler] + [clf])\n",
    "    \n",
    "    print (pipeline)\n",
    "\n",
    "    model=pipeline.fit(df)\n",
    "\n",
    "\n",
    "    return model"
   ]
  },
  {
   "cell_type": "code",
   "execution_count": 75,
   "metadata": {
    "collapsed": true
   },
   "outputs": [],
   "source": [
    "training_df, testing_df = final_df.randomSplit(weights = [0.80, 0.20], seed = 13)"
   ]
  },
  {
   "cell_type": "code",
   "execution_count": 76,
   "metadata": {},
   "outputs": [
    {
     "name": "stdout",
     "output_type": "stream",
     "text": [
      "root\n",
      " |-- source: string (nullable = true)\n",
      " |-- isTrueDirect: string (nullable = true)\n",
      " |-- sourceKeyword: string (nullable = true)\n",
      " |-- medium: string (nullable = true)\n",
      " |-- newVisits: string (nullable = true)\n",
      " |-- hitReferer: string (nullable = true)\n",
      " |-- hitType: string (nullable = true)\n",
      " |-- hitAction_type: string (nullable = true)\n",
      " |-- hitNumber: float (nullable = true)\n",
      " |-- hitHour: float (nullable = true)\n",
      " |-- hitMin: float (nullable = true)\n",
      " |-- timeMicroSec: float (nullable = true)\n",
      " |-- v2ProductName: string (nullable = true)\n",
      " |-- productListName: string (nullable = true)\n",
      " |-- isClick: string (nullable = true)\n",
      " |-- isImpression: string (nullable = true)\n",
      " |-- timeOnSite: float (nullable = true)\n",
      " |-- last_Action_type: float (nullable = true)\n",
      "\n"
     ]
    }
   ],
   "source": [
    "training_df.printSchema()"
   ]
  },
  {
   "cell_type": "code",
   "execution_count": 77,
   "metadata": {
    "collapsed": true
   },
   "outputs": [],
   "source": [
    "catcols = [\\\n",
    "           'source',\n",
    " 'isTrueDirect',\n",
    " 'sourceKeyword',\n",
    " 'medium',\n",
    " 'newVisits','v2ProductName'\n",
    "          ]\n",
    "\n",
    "num_cols = [\\\n",
    "            'hitNumber',\n",
    " 'hitNumber',\n",
    " 'timeOnSite',\n",
    " 'timeMicroSec'\n",
    "           ]\n",
    "\n",
    "discols = [\\\n",
    "           #'pub_rec',\\\n",
    "           #'dti',\\\n",
    "           #'installment'\\\n",
    "          ]\n",
    "\n",
    "\n",
    "\n",
    "labelCol = 'last_Action_type'\n",
    "\n",
    "splits = [-1.0, 0.0, 1.0, 2.0, 3.0, 4.0, float(\"inf\")]"
   ]
  },
  {
   "cell_type": "code",
   "execution_count": null,
   "metadata": {},
   "outputs": [
    {
     "data": {
      "text/plain": [
       "[('source', 'isTrueDirect'),\n",
       " ('source', 'sourceKeyword'),\n",
       " ('source', 'medium'),\n",
       " ('source', 'newVisits'),\n",
       " ('source', 'v2ProductName'),\n",
       " ('isTrueDirect', 'sourceKeyword'),\n",
       " ('isTrueDirect', 'medium'),\n",
       " ('isTrueDirect', 'newVisits'),\n",
       " ('isTrueDirect', 'v2ProductName'),\n",
       " ('sourceKeyword', 'medium'),\n",
       " ('sourceKeyword', 'newVisits'),\n",
       " ('sourceKeyword', 'v2ProductName'),\n",
       " ('medium', 'newVisits'),\n",
       " ('medium', 'v2ProductName'),\n",
       " ('newVisits', 'v2ProductName')]"
      ]
     },
     "execution_count": 78,
     "metadata": {},
     "output_type": "execute_result"
    }
   ],
   "source": [
    "from itertools import combinations \n",
    "list(combinations(catcols, 2))"
   ]
  },
  {
   "cell_type": "code",
   "execution_count": null,
   "metadata": {},
   "outputs": [
    {
     "name": "stdout",
     "output_type": "stream",
     "text": [
      "Pipeline_b9a7c00099b6\n",
      "Categorical Features: ('source',) ได้ Model ที่มี {'Sensitivity': 0.019816313362037322, 'Specificity': 0.19722358366056106}\n",
      "Pipeline_c78cf987fc22\n",
      "Categorical Features: ('isTrueDirect',) ได้ Model ที่มี {'Sensitivity': 0.017398841622758492, 'Specificity': 0.19720711343775885}\n",
      "Pipeline_3eca9684e732\n",
      "Categorical Features: ('sourceKeyword',) ได้ Model ที่มี {'Sensitivity': 0.017933338570974112, 'Specificity': 0.1972570388006281}\n",
      "Pipeline_ed0f14286672\n",
      "Categorical Features: ('medium',) ได้ Model ที่มี {'Sensitivity': 0.019019075745301258, 'Specificity': 0.19725832553678452}\n",
      "Pipeline_e15a1765377a\n",
      "Categorical Features: ('newVisits',) ได้ Model ที่มี {'Sensitivity': 0.019422202359256648, 'Specificity': 0.1971663239016002}\n",
      "Pipeline_85eb66d365f0\n",
      "Categorical Features: ('v2ProductName',) ได้ Model ที่มี {'Sensitivity': 0.01920453974660981, 'Specificity': 0.19718022065208957}\n"
     ]
    }
   ],
   "source": [
    "for i in range(len(catcols)):\n",
    "    for j in (list(combinations(catcols, i+1))):\n",
    "        ml_model = get_model(training_df,j\\\n",
    "                             ,num_cols,discols, splits, labelCol)\n",
    "        lap2 = ml_model.transform(testing_df)\\\n",
    "        .select('last_Action_type','prediction')\\\n",
    "        .toPandas()\n",
    "        m2 = eval_metrics(lap2)\n",
    "        print(\"Categorical Features: {0} ได้ Model ที่มี {1}\".format(j,m2))\n",
    "        "
   ]
  },
  {
   "cell_type": "code",
   "execution_count": null,
   "metadata": {
    "collapsed": true
   },
   "outputs": [],
   "source": []
  },
  {
   "cell_type": "code",
   "execution_count": null,
   "metadata": {
    "collapsed": true
   },
   "outputs": [],
   "source": []
  }
 ],
 "metadata": {
  "anaconda-cloud": {},
  "kernelspec": {
   "display_name": "Python 3",
   "language": "python",
   "name": "python3"
  },
  "language_info": {
   "codemirror_mode": {
    "name": "ipython",
    "version": 3
   },
   "file_extension": ".py",
   "mimetype": "text/x-python",
   "name": "python",
   "nbconvert_exporter": "python",
   "pygments_lexer": "ipython3",
   "version": "3.6.1"
  }
 },
 "nbformat": 4,
 "nbformat_minor": 1
}
